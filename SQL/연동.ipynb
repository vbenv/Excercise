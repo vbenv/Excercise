{
 "cells": [
  {
   "cell_type": "code",
   "execution_count": 1,
   "metadata": {},
   "outputs": [
    {
     "name": "stdout",
     "output_type": "stream",
     "text": [
      "Collecting pymysql\n",
      "  Downloading PyMySQL-1.1.1-py3-none-any.whl.metadata (4.4 kB)\n",
      "Downloading PyMySQL-1.1.1-py3-none-any.whl (44 kB)\n",
      "Installing collected packages: pymysql\n",
      "Successfully installed pymysql-1.1.1\n",
      "Note: you may need to restart the kernel to use updated packages.\n"
     ]
    }
   ],
   "source": [
    "pip install pymysql"
   ]
  },
  {
   "cell_type": "code",
   "execution_count": 2,
   "metadata": {},
   "outputs": [],
   "source": [
    "import pymysql"
   ]
  },
  {
   "cell_type": "code",
   "execution_count": 3,
   "metadata": {},
   "outputs": [
    {
     "name": "stdout",
     "output_type": "stream",
     "text": [
      "데이터베이스 연결 준비..\n",
      "데이터베이스 연결 실패\n"
     ]
    }
   ],
   "source": [
    "import pymysql\n",
    "\n",
    "#데이터 베이스 접속 관련 변수 초기화\n",
    "host = \"localhost\"\n",
    "port = 3306\n",
    "database = \"madangdb\"\n",
    "username = \"madang\"\n",
    "password = \"madang\"\n",
    "\n",
    "#접속 상태 확인\n",
    "conflag=True\n",
    "\n",
    "try:\n",
    "    print ('데이터베이스 연결 준비..')\n",
    "    conn = pymysql.connect(host=host, user=username, passwd=password, db=database, port=port,charset='utf8')\n",
    "    print ('데이터베이스 연결 성공')\n",
    "except Exception as e:\n",
    "    print ('데이터베이스 연결 실패')\n",
    "    conflag=False\n",
    "\n",
    "#접속이 성공하면 실행\n",
    "if conflag== True :\n",
    "    #커서 생성\n",
    "    cursor = conn.cursor()\n",
    "\n",
    "    #SQL 문장 준비\n",
    "    sqlstring = 'select * from book;'\n",
    "\n",
    "    #SQL 문장실행\n",
    "    res = cursor.execute(sqlstring)\n",
    "\n",
    "    #쿼리 데이터를 가져옴\n",
    "    data = cursor.fetchall()\n",
    "\n",
    "    #화면에 출력 \n",
    "    print ('{0}\\t{1:<} \\t{2:<} \\t{3:>}'.format('BOOK NO','BOOK NAME','PUBLISHER','PRICE'))\n",
    "    for rowdata in data:\n",
    "        print ('{0}\\t{1:<} \\t{2:<} \\t{3:>}'.format(rowdata[0],rowdata[1],rowdata[2],rowdata[3]))\n",
    "\n",
    "    #커서를 닫음\n",
    "    cursor.close()\n",
    "\n",
    "    #데이터베이스 연결을 닫음\n",
    "    conn.close()\n"
   ]
  },
  {
   "cell_type": "code",
   "execution_count": null,
   "metadata": {},
   "outputs": [],
   "source": []
  }
 ],
 "metadata": {
  "kernelspec": {
   "display_name": "base",
   "language": "python",
   "name": "python3"
  },
  "language_info": {
   "codemirror_mode": {
    "name": "ipython",
    "version": 3
   },
   "file_extension": ".py",
   "mimetype": "text/x-python",
   "name": "python",
   "nbconvert_exporter": "python",
   "pygments_lexer": "ipython3",
   "version": "3.11.7"
  }
 },
 "nbformat": 4,
 "nbformat_minor": 2
}
