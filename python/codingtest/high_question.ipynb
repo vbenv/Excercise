{
 "cells": [
  {
   "cell_type": "markdown",
   "metadata": {},
   "source": [
    "### Hash"
   ]
  },
  {
   "cell_type": "markdown",
   "metadata": {},
   "source": [
    "완주하지 못한 선수"
   ]
  },
  {
   "cell_type": "code",
   "execution_count": null,
   "metadata": {},
   "outputs": [],
   "source": [
    "def solution(participant, completion):\n",
    "    participant.sort()\n",
    "    completion.sort()\n",
    "    \n",
    "    for i in range(len(completion)):\n",
    "        if participant[i] != completion[i]:\n",
    "            return participant[i]\n",
    "    return participant[-1]      # 마지막 인덱스에 있을 경우\n",
    "\n",
    "# other solution : by collection module.\n",
    "# In collection, Counter object has subtraction function.\n",
    "import collections\n",
    "\n",
    "def solution(participant, completion):\n",
    "    return list(collections.Counter(participant) - collections.Counter(completion))[0]\n",
    "\n",
    "# other solution : by hash\n",
    "def solution(participant, completion):\n",
    "    participants = {}\n",
    "    sum_idx = 0\n",
    "    \n",
    "    for man in participant:\n",
    "        # hash(sth) : get idx num using hash function.\n",
    "        participants[hash(man)] = man\n",
    "        sum_idx += hash(man)\n",
    "    \n",
    "    for comp in completion:\n",
    "        sumHash -= hash(comp)\n",
    "    \n",
    "    return participants[sum_idx]"
   ]
  },
  {
   "cell_type": "markdown",
   "metadata": {},
   "source": [
    "폰켓몬"
   ]
  },
  {
   "cell_type": "code",
   "execution_count": null,
   "metadata": {},
   "outputs": [
    {
     "data": {
      "text/plain": [
       "{'hong': 1, 'yaya': 2}"
      ]
     },
     "execution_count": 1,
     "metadata": {},
     "output_type": "execute_result"
    }
   ],
   "source": [
    "def solution(nums):\n",
    "    pick_num = len(nums)/2\n",
    "    uniq = set(nums)\n",
    "    if len(uniq) >= pick_num:\n",
    "        return pick_num\n",
    "    else:\n",
    "        return len(uniq)\n",
    "# other solution : compress my code\n",
    "def solution(nums):\n",
    "    return min(len(nums)/2, len(set(nums)))\n",
    "\n",
    "#"
   ]
  },
  {
   "cell_type": "markdown",
   "metadata": {},
   "source": [
    "전화번호 목록\n",
    "\n",
    "1. 접두사를 따로 빼서 저장.\n",
    "2. 접두사가 phone_book 리스트에 있는지 확인\n",
    "3. 결과값 반환"
   ]
  },
  {
   "cell_type": "code",
   "execution_count": 1,
   "metadata": {},
   "outputs": [],
   "source": [
    "def solution(phone_book):\n",
    "    hash = {}\n",
    "    for phone_number in phone_book:\n",
    "        hash[phone_number] = 1\n",
    "    \n",
    "    for phone_number in phone_book:\n",
    "        arr = \"\"\n",
    "        for num in phone_number:\n",
    "            arr += num\n",
    "            if arr in hash and arr != phone_number:\n",
    "                return False\n",
    "    return True\n",
    "solution([\"119\", \"97674223\", \"1195524421\"])\n",
    "\n",
    "# other solution : startswith()\n",
    "def solution(phone_book):\n",
    "    phone_book.sort()\n",
    "    for p1, p2 in zip(phone_book, phone_book[1:]):\n",
    "        if p2.startswith(p1):\n",
    "            return False\n",
    "    return True\n",
    "solution([\"119\", \"97674223\", \"1195524421\"])\n",
    "\n",
    "# other solution : using index\n",
    "def solution(phone_book):\n",
    "    phone_book.sort()\n",
    "    for i in range(len(phone_book)-1):\n",
    "        if phone_book[i]==phone_book[i+1][:len(phone_book[i])]:\n",
    "            return False\n",
    "    return True\n",
    "solution([\"119\", \"97674223\", \"1195524421\"])\n",
    "\n",
    "\n",
    "def solution(phone):\n",
    "    phone.sort()\n",
    "    for i in range(len(phone)-1):\n",
    "        if phone[i+1].startswith(phone[i]):\n",
    "            return False\n",
    "    return True\n"
   ]
  }
 ],
 "metadata": {
  "kernelspec": {
   "display_name": "sun_chnn",
   "language": "python",
   "name": "python3"
  },
  "language_info": {
   "codemirror_mode": {
    "name": "ipython",
    "version": 3
   },
   "file_extension": ".py",
   "mimetype": "text/x-python",
   "name": "python",
   "nbconvert_exporter": "python",
   "pygments_lexer": "ipython3",
   "version": "3.10.14"
  }
 },
 "nbformat": 4,
 "nbformat_minor": 2
}
