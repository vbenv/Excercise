{
 "cells": [
  {
   "cell_type": "markdown",
   "metadata": {},
   "source": [
    "### Hash"
   ]
  },
  {
   "cell_type": "markdown",
   "metadata": {},
   "source": [
    "완주하지 못한 선수"
   ]
  },
  {
   "cell_type": "code",
   "execution_count": null,
   "metadata": {},
   "outputs": [],
   "source": [
    "def solution(participant, completion):\n",
    "    participant.sort()\n",
    "    completion.sort()\n",
    "    \n",
    "    for i in range(len(completion)):\n",
    "        if participant[i] != completion[i]:\n",
    "            return participant[i]\n",
    "    return participant[-1]      # 마지막 인덱스에 있을 경우\n",
    "\n",
    "# other solution : by collection module.\n",
    "# In collection, Counter object has subtraction function.\n",
    "import collections\n",
    "\n",
    "def solution(participant, completion):\n",
    "    return list(collections.Counter(participant) - collections.Counter(completion))[0]\n",
    "\n",
    "# other solution : by hash\n",
    "def solution(participant, completion):\n",
    "    participants = {}\n",
    "    sum_idx = 0\n",
    "    \n",
    "    for man in participant:\n",
    "        # hash(sth) : get idx num using hash function.\n",
    "        participants[hash(man)] = man\n",
    "        sum_idx += hash(man)\n",
    "    \n",
    "    for comp in completion:\n",
    "        sumHash -= hash(comp)\n",
    "    \n",
    "    return participants[sum_idx]"
   ]
  },
  {
   "cell_type": "markdown",
   "metadata": {},
   "source": [
    "폰켓몬"
   ]
  },
  {
   "cell_type": "code",
   "execution_count": null,
   "metadata": {},
   "outputs": [
    {
     "data": {
      "text/plain": [
       "{'hong': 1, 'yaya': 2}"
      ]
     },
     "execution_count": 1,
     "metadata": {},
     "output_type": "execute_result"
    }
   ],
   "source": [
    "def solution(nums):\n",
    "    pick_num = len(nums)/2\n",
    "    uniq = set(nums)\n",
    "    if len(uniq) >= pick_num:\n",
    "        return pick_num\n",
    "    else:\n",
    "        return len(uniq)\n",
    "# other solution : compress my code\n",
    "def solution(nums):\n",
    "    return min(len(nums)/2, len(set(nums)))\n",
    "\n",
    "#"
   ]
  },
  {
   "cell_type": "markdown",
   "metadata": {},
   "source": [
    "전화번호 목록\n",
    "\n",
    "1. 접두사를 따로 빼서 저장.\n",
    "2. 접두사가 phone_book 리스트에 있는지 확인\n",
    "3. 결과값 반환"
   ]
  },
  {
   "cell_type": "code",
   "execution_count": 1,
   "metadata": {},
   "outputs": [],
   "source": [
    "def solution(phone_book):\n",
    "    hash = {}\n",
    "    for phone_number in phone_book:\n",
    "        hash[phone_number] = 1\n",
    "    \n",
    "    for phone_number in phone_book:\n",
    "        arr = \"\"\n",
    "        for num in phone_number:\n",
    "            arr += num\n",
    "            if arr in hash and arr != phone_number:\n",
    "                return False\n",
    "    return True\n",
    "solution([\"119\", \"97674223\", \"1195524421\"])\n",
    "\n",
    "# other solution : startswith()\n",
    "def solution(phone_book):\n",
    "    phone_book.sort()\n",
    "    for p1, p2 in zip(phone_book, phone_book[1:]):\n",
    "        if p2.startswith(p1):\n",
    "            return False\n",
    "    return True\n",
    "solution([\"119\", \"97674223\", \"1195524421\"])\n",
    "\n",
    "# other solution : using index\n",
    "def solution(phone_book):\n",
    "    phone_book.sort()\n",
    "    for i in range(len(phone_book)-1):\n",
    "        if phone_book[i]==phone_book[i+1][:len(phone_book[i])]:\n",
    "            return False\n",
    "    return True\n",
    "solution([\"119\", \"97674223\", \"1195524421\"])\n",
    "\n",
    "\n",
    "def solution(phone):\n",
    "    phone.sort()\n",
    "    for i in range(len(phone)-1):\n",
    "        if phone[i+1].startswith(phone[i]):\n",
    "            return False\n",
    "    return True\n"
   ]
  },
  {
   "cell_type": "markdown",
   "metadata": {},
   "source": [
    "### Stack & Queue"
   ]
  },
  {
   "cell_type": "markdown",
   "metadata": {},
   "source": [
    "같은 숫자는 싫어"
   ]
  },
  {
   "cell_type": "code",
   "execution_count": null,
   "metadata": {},
   "outputs": [
    {
     "name": "stdout",
     "output_type": "stream",
     "text": [
      "1 0\n",
      "3 2\n",
      "6 5\n"
     ]
    },
    {
     "data": {
      "text/plain": [
       "[1, 3, 0, 1]"
      ]
     },
     "execution_count": 10,
     "metadata": {},
     "output_type": "execute_result"
    }
   ],
   "source": [
    "def solution(arr):\n",
    "    answer = []\n",
    "    answer.append(arr[0])\n",
    "    for i in range(1, len(arr)):\n",
    "        if arr[i] == arr[i-1]:  # i번째와 i-1번째 인덱스 비교\n",
    "            pass\n",
    "        else:\n",
    "            answer.append(arr[i])\n",
    "    return answer\n",
    "\n",
    "# other solution : simple\n",
    "def solution(arr):\n",
    "    answer = []\n",
    "    for i in arr:\n",
    "        if len(answer) == 0 or i != answer[-1]:\n",
    "            answer.append(i)\n",
    "    return answer"
   ]
  },
  {
   "cell_type": "markdown",
   "metadata": {},
   "source": [
    "기능개발\n",
    "- 배포 가능한 날짜를 계산\n",
    "- 날짜가 앞의 인덱스와 작거나 동일하면 answer에 그 갯수만큼 추가"
   ]
  },
  {
   "cell_type": "code",
   "execution_count": null,
   "metadata": {},
   "outputs": [],
   "source": [
    "def solution(progresses, speeds):\n",
    "    answer = []\n",
    "    time = 0\n",
    "    count = 0\n",
    "    \n",
    "    while len(progresses) > 0:\n",
    "        if (progresses[0] + time*speeds[0]) >= 100:\n",
    "            progresses.pop(0)\n",
    "            speeds.pop(0)\n",
    "            count += 1\n",
    "        else:\n",
    "            if count > 0:\n",
    "                answer.append(count)\n",
    "                count = 0\n",
    "            time += 1\n",
    "    answer.append(count)        # when all progress over '100'\n",
    "    return answer\n",
    "\n",
    "# other solution : math.ceil\n",
    "from math import ceil\n",
    "def solution(progresses, speeds):\n",
    "    daysLeft = list(map(lambda x: (ceil((100 - progresses[x]) / speeds[x])), range(len(progresses))))\n",
    "    count = 1\n",
    "    retList = []\n",
    "\n",
    "    for i in range(len(daysLeft)):\n",
    "        try:\n",
    "            if daysLeft[i] < daysLeft[i + 1]:\n",
    "                retList.append(count)\n",
    "                count = 1\n",
    "            else:\n",
    "                daysLeft[i + 1] = daysLeft[i]\n",
    "                count += 1\n",
    "        except IndexError:\n",
    "            retList.append(count)\n",
    "\n",
    "    return retList"
   ]
  },
  {
   "cell_type": "code",
   "execution_count": 47,
   "metadata": {},
   "outputs": [
    {
     "data": {
      "text/plain": [
       "[2, 1]"
      ]
     },
     "execution_count": 47,
     "metadata": {},
     "output_type": "execute_result"
    }
   ],
   "source": [
    "solution([93,30,55], [1, 30, 5])"
   ]
  },
  {
   "cell_type": "markdown",
   "metadata": {},
   "source": [
    "### Sort"
   ]
  },
  {
   "cell_type": "code",
   "execution_count": null,
   "metadata": {},
   "outputs": [],
   "source": [
    "def solution(array, commands):\n",
    "    answer = []\n",
    "    for command in commands:\n",
    "        i = command[0] - 1\n",
    "        j = command[1]\n",
    "        k = command[2] - 1\n",
    "        tmp = sorted(array[i:j])[k]\n",
    "        answer.append(tmp)\n",
    "    return answer\n",
    "\n",
    "# zip"
   ]
  },
  {
   "cell_type": "markdown",
   "metadata": {},
   "source": [
    "가장 큰 수"
   ]
  },
  {
   "cell_type": "code",
   "execution_count": null,
   "metadata": {},
   "outputs": [],
   "source": [
    "def solution(numbers):\n",
    "    # Convert numbers to strings for comparison\n",
    "    numbers = list(map(str, numbers))\n",
    "    \n",
    "    # lambda = To determine the correct order when comparing numeric strings of different lengths (e.g. '9' and '91').\n",
    "    # Compare the case of a string based on a dictionary\n",
    "    # 4 = A number is the number of digits + 1\n",
    "    numbers.sort(key=lambda x: x*4, reverse=True)\n",
    "    # Join the sorted numbers and return the result\n",
    "    return \"\".join(numbers)"
   ]
  },
  {
   "cell_type": "code",
   "execution_count": null,
   "metadata": {},
   "outputs": [],
   "source": [
    "# +) using permutations methods\n",
    "from itertools import permutations\n",
    "\n",
    "# Generate all permutations of the list num\n",
    "num = [1,3,5,4]\n",
    "tmp = []\n",
    "for i in permutations(num):\n",
    "    print(\"\".join(map(str, i)))\n",
    "    tmp.append(int(\"\".join(map(str, i))))"
   ]
  },
  {
   "cell_type": "code",
   "execution_count": null,
   "metadata": {},
   "outputs": [],
   "source": [
    "import numpy as np\n",
    "\n",
    "temp = np.random.randint(0,100,25)\n",
    "\n",
    "temp = list(temp)\n"
   ]
  }
 ],
 "metadata": {
  "kernelspec": {
   "display_name": "sun_chnn",
   "language": "python",
   "name": "python3"
  },
  "language_info": {
   "codemirror_mode": {
    "name": "ipython",
    "version": 3
   },
   "file_extension": ".py",
   "mimetype": "text/x-python",
   "name": "python",
   "nbconvert_exporter": "python",
   "pygments_lexer": "ipython3",
   "version": "3.10.14"
  }
 },
 "nbformat": 4,
 "nbformat_minor": 2
}
