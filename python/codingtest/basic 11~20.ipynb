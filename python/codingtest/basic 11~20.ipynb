{
 "cells": [
  {
   "cell_type": "markdown",
   "metadata": {},
   "source": [
    "문자 개수 세기\n",
    "\n",
    "알파벳 대소문자로만 이루어진 문자열 my_string이 주어질 때, my_string에서 'A'의 개수, my_string에서 'B'의 개수,..., my_string에서 'Z'의 개수, my_string에서 'a'의 개수, my_string에서 'b'의 개수,..., my_string에서 'z'의 개수를 순서대로 담은 길이 52의 정수 배열을 return 하는 solution 함수를 작성해 주세요."
   ]
  },
  {
   "cell_type": "code",
   "execution_count": 33,
   "metadata": {},
   "outputs": [],
   "source": [
    "# 유니코드 대문자 : 65~90, 소문자 : 97~122\n",
    "# 1. 총 52개의 빈 배열을 만들고\n",
    "# 2. my_string 하나씩 돌면서 알파벳 위치에 맞는 배열 인덱스 값 수정\n",
    "\n",
    "def solution(my_string):\n",
    "    answer = [0 for i in range(52)]\n",
    "    for char in my_string:\n",
    "        # 소문자일 때,\n",
    "        if char >= 'a':\n",
    "            # 'a' : 97 -> 26\n",
    "            answer[ord(char) - 71] += 1\n",
    "        # 대문자일 때,\n",
    "        else:\n",
    "            answer[ord(char) - 65] += 1\n",
    "            \n",
    "    \n",
    "    return answer\n",
    "\n",
    "solution(\"Programmers\")\n",
    "\n",
    "# 다른 풀이 : 리스트도 연산을 적용할 수 있다는 점을 이용해 더 최적화 된 코드.\n",
    "answer = [0] * 52"
   ]
  },
  {
   "cell_type": "markdown",
   "metadata": {},
   "source": [
    "배열 만들기 1\n",
    "\n",
    "정수 n과 k가 주어졌을 때, 1 이상 n이하의 정수 중에서 k의 배수를 오름차순으로 저장한 배열을 return 하는 solution 함수를 완성해 주세요."
   ]
  },
  {
   "cell_type": "code",
   "execution_count": 34,
   "metadata": {},
   "outputs": [
    {
     "data": {
      "text/plain": [
       "[5, 10, 15]"
      ]
     },
     "execution_count": 34,
     "metadata": {},
     "output_type": "execute_result"
    }
   ],
   "source": [
    "def solution(n, k):\n",
    "    return [num for num in range(0,n+1,k) if num != 0]\n",
    "solution(15, 5)\n",
    "\n",
    "# 다른 풀이 : k부터 시작.\n",
    "# [num for num in range(k, n+1, k)]"
   ]
  },
  {
   "cell_type": "markdown",
   "metadata": {},
   "source": [
    "글자 지우기\n",
    "\n",
    "문자열 my_string과 정수 배열 indices가 주어질 때, my_string에서 indices의 원소에 해당하는 인덱스의 글자를 지우고 이어 붙인 문자열을 return 하는 solution 함수를 작성해 주세요.\n"
   ]
  },
  {
   "cell_type": "code",
   "execution_count": 35,
   "metadata": {},
   "outputs": [
    {
     "data": {
      "text/plain": [
       "'programmers'"
      ]
     },
     "execution_count": 35,
     "metadata": {},
     "output_type": "execute_result"
    }
   ],
   "source": [
    "def solution(my_string, indices):\n",
    "    my_string = list(my_string)\n",
    "    indices.sort(reverse=True)\n",
    "    for i in indices:\n",
    "        my_string.pop(i)\n",
    "    return ''.join(my_string)\n",
    "solution(\"apporoograpemmemprs\", [1, 16, 6, 15, 0, 10, 11, 3])"
   ]
  },
  {
   "cell_type": "code",
   "execution_count": 36,
   "metadata": {},
   "outputs": [
    {
     "name": "stdout",
     "output_type": "stream",
     "text": [
      "['a', 'b', 'c', 'e', 'f', 'g']\n"
     ]
    },
    {
     "data": {
      "text/plain": [
       "[6, 5, 2, 2, 1]"
      ]
     },
     "execution_count": 36,
     "metadata": {},
     "output_type": "execute_result"
    }
   ],
   "source": [
    "str = 'abcdefg'\n",
    "str = list(str)\n",
    "str.pop(3)\n",
    "print(str)\n",
    "num = [2,5,6,1,2]\n",
    "num.sort(reverse=True)\n",
    "num"
   ]
  },
  {
   "cell_type": "markdown",
   "metadata": {},
   "source": [
    "카운트 다운\n",
    "\n",
    "정수 start_num와 end_num가 주어질 때, start_num에서 end_num까지 1씩 감소하는 수들을 차례로 담은 리스트를 return하도록 solution 함수를 완성해주세요."
   ]
  },
  {
   "cell_type": "code",
   "execution_count": 37,
   "metadata": {},
   "outputs": [
    {
     "data": {
      "text/plain": [
       "[10, 9, 8, 7, 6, 5, 4, 3]"
      ]
     },
     "execution_count": 37,
     "metadata": {},
     "output_type": "execute_result"
    }
   ],
   "source": [
    "def solution(start_num, end_num):\n",
    "    return [n for n in range(start_num,end_num-1,-1)]\n",
    "solution(10, 3)"
   ]
  },
  {
   "cell_type": "markdown",
   "metadata": {},
   "source": [
    "가까운 1 찾기\n",
    "\n",
    "정수 배열 arr가 주어집니다. 이때 arr의 원소는 1 또는 0입니다. 정수 idx가 주어졌을 때, idx보다 크면서 배열의 값이 1인 가장 작은 인덱스를 찾아서 반환하는 solution 함수를 완성해 주세요.\n",
    "\n",
    "단, 만약 그러한 인덱스가 없다면 -1을 반환합니다."
   ]
  },
  {
   "cell_type": "code",
   "execution_count": 38,
   "metadata": {},
   "outputs": [
    {
     "data": {
      "text/plain": [
       "-1"
      ]
     },
     "execution_count": 38,
     "metadata": {},
     "output_type": "execute_result"
    }
   ],
   "source": [
    "# list 내에서 특정 값을 찾고자 하는 경우 : index - 첫번째 값의 index 값 반환\n",
    "def solution(arr, idx):\n",
    "    # list슬라이싱해서, 1이 없으면 오류가 발생하므로 count로 있는 경우아 없는 경우 나눠서 작업\n",
    "    if arr[idx:].count(1) != 0:\n",
    "        return arr.index(1, idx)\n",
    "    else:\n",
    "        return -1\n",
    "\n",
    "solution([1, 1, 1, 1, 0], 4)"
   ]
  },
  {
   "cell_type": "markdown",
   "metadata": {},
   "source": [
    "리스트 자르기\n",
    "\n",
    "정수 n과 정수 3개가 담긴 리스트 slicer 그리고 정수 여러 개가 담긴 리스트 num_list가 주어집니다. slicer에 담긴 정수를 차례대로 a, b, c라고 할 때, n에 따라 다음과 같이 num_list를 슬라이싱 하려고 합니다.\n",
    "\n",
    "n = 1 : num_list의 0번 인덱스부터 b번 인덱스까지\n",
    "n = 2 : num_list의 a번 인덱스부터 마지막 인덱스까지\n",
    "n = 3 : num_list의 a번 인덱스부터 b번 인덱스까지\n",
    "n = 4 : num_list의 a번 인덱스부터 b번 인덱스까지 c 간격으로\n",
    "올바르게 슬라이싱한 리스트를 return하도록 solution 함수를 완성해주세요.\n",
    "\n"
   ]
  },
  {
   "cell_type": "code",
   "execution_count": 39,
   "metadata": {},
   "outputs": [
    {
     "data": {
      "text/plain": [
       "[2, 4, 6]"
      ]
     },
     "execution_count": 39,
     "metadata": {},
     "output_type": "execute_result"
    }
   ],
   "source": [
    "def solution(n, slicer, num_list):\n",
    "    if n == 1:\n",
    "        # b번 인덱스까지이므로 +1\n",
    "        return num_list[0:slicer[1]+1]\n",
    "    elif n == 2:\n",
    "        return num_list[slicer[0]:]\n",
    "    elif n == 3:\n",
    "        return num_list[slicer[0]: slicer[1] +1]\n",
    "    else:\n",
    "        return num_list[slicer[0]:slicer[1]+1:slicer[2]]\n",
    "solution(4, [1,5,2], [1,2,3,4,5,6,7,8,9])"
   ]
  },
  {
   "cell_type": "markdown",
   "metadata": {},
   "source": [
    "첫 번째로 나오는 음수\n",
    "\n",
    "정수 리스트 num_list가 주어질 때, 첫 번째로 나오는 음수의 인덱스를 return하도록 solution 함수를 완성해주세요. 음수가 없다면 -1을 return합니다."
   ]
  },
  {
   "cell_type": "code",
   "execution_count": 40,
   "metadata": {},
   "outputs": [
    {
     "data": {
      "text/plain": [
       "5"
      ]
     },
     "execution_count": 40,
     "metadata": {},
     "output_type": "execute_result"
    }
   ],
   "source": [
    "def solution(num_list):\n",
    "    for idx in num_list:\n",
    "        if idx < 0:\n",
    "            return num_list.index(idx)\n",
    "    return -1\n",
    "solution([12, 4, 15, 46, 38, -2, 15])"
   ]
  },
  {
   "cell_type": "markdown",
   "metadata": {},
   "source": [
    "배열 만들기 3\n",
    "\n",
    "정수 배열 arr와 2개의 구간이 담긴 배열 intervals가 주어집니다.\n",
    "\n",
    "intervals는 항상 [[a1, b1], [a2, b2]]의 꼴로 주어지며 각 구간은 닫힌 구간입니다. 닫힌 구간은 양 끝값과 그 사이의 값을 모두 포함하는 구간을 의미합니다.\n",
    "\n",
    "이때 배열 arr의 첫 번째 구간에 해당하는 배열과 두 번째 구간에 해당하는 배열을 앞뒤로 붙여 새로운 배열을 만들어 return 하는 solution 함수를 완성해 주세요."
   ]
  },
  {
   "cell_type": "code",
   "execution_count": 41,
   "metadata": {},
   "outputs": [
    {
     "data": {
      "text/plain": [
       "[2, 3, 4, 1, 2, 3, 4, 5]"
      ]
     },
     "execution_count": 41,
     "metadata": {},
     "output_type": "execute_result"
    }
   ],
   "source": [
    "def solution(arr, intervals):\n",
    "    return arr[intervals[0][0]: intervals[0][1]+1]+ arr[intervals[1][0]:intervals[1][1]+1]\n",
    "\n",
    "solution([1, 2, 3, 4, 5], [[1, 3], [0, 4]])"
   ]
  },
  {
   "cell_type": "code",
   "execution_count": 42,
   "metadata": {},
   "outputs": [
    {
     "data": {
      "text/plain": [
       "[2, 3, 4, 1, 2, 3, 4, 5]"
      ]
     },
     "execution_count": 42,
     "metadata": {},
     "output_type": "execute_result"
    }
   ],
   "source": [
    "arr = [1, 2, 3, 4, 5]\n",
    "intervals = [[1,3],[0,4]]\n",
    "intervals[1][1]\n",
    "arr[intervals[0][0]: intervals[0][1]+1]+ arr[intervals[1][0]:intervals[1][1]+1]"
   ]
  },
  {
   "cell_type": "markdown",
   "metadata": {},
   "source": [
    "2의 영역\n",
    "\n",
    "정수 배열 arr가 주어집니다. 배열 안의 2가 모두 포함된 가장 작은 연속된 부분 배열을 return 하는 solution 함수를 완성해 주세요.\n",
    "\n",
    "단, arr에 2가 없는 경우 [-1]을 return 합니다."
   ]
  },
  {
   "cell_type": "code",
   "execution_count": 43,
   "metadata": {},
   "outputs": [
    {
     "data": {
      "text/plain": [
       "[2, 1, 2, 1, 10, 2]"
      ]
     },
     "execution_count": 43,
     "metadata": {},
     "output_type": "execute_result"
    }
   ],
   "source": [
    "def solution(arr):\n",
    "    answer = []\n",
    "    # 찾는 과정을 절반으로 줄이기 위해 절반 나눠서 진행\n",
    "    for i in range(int(len(arr)/2)):\n",
    "        if arr[i] == 2:\n",
    "            answer.append(i)\n",
    "            break\n",
    "    for j in range(len(arr)-1, int(len(arr)/2)-1, -1):\n",
    "        if arr[j] == 2:\n",
    "            answer.append(j)\n",
    "            break\n",
    "    # answer 값의 갯수에 따라 다르게 출력 될 것을 예상하여 조건 대입\n",
    "    if len(answer) == 0:\n",
    "        return [-1]\n",
    "    elif len(answer) == 1:\n",
    "        return [arr[answer[0]]]\n",
    "    else:\n",
    "        return arr[answer[0] : answer[1]+1]\n",
    "solution([1, 2, 1, 2, 1, 10, 2, 1])\n",
    "\n",
    "# 다르게 푼 풀이\n",
    "# 1. (2)의 인덱스를 빈 리스트에 모두 추가한 다음, 그 리스트의[0], [-1]로 리턴하는 방법\n",
    "# 2. arr[arr.index(2) : len(arr) - arr[::-1].index(2)]\n"
   ]
  },
  {
   "cell_type": "markdown",
   "metadata": {},
   "source": [
    "배열 조각하기\n",
    "\n",
    "정수 배열 arr와 query가 주어집니다.\n",
    "\n",
    "query를 순회하면서 다음 작업을 반복합니다.\n",
    "\n",
    "짝수 인덱스에서는 arr에서 query[i]번 인덱스를 제외하고 배열의 query[i]번 인덱스 뒷부분을 잘라서 버립니다.\n",
    "홀수 인덱스에서는 arr에서 query[i]번 인덱스는 제외하고 배열의 query[i]번 인덱스 앞부분을 잘라서 버립니다.\n",
    "위 작업을 마친 후 남은 arr의 부분 배열을 return 하는 solution 함수를 완성해 주세요."
   ]
  },
  {
   "cell_type": "code",
   "execution_count": 44,
   "metadata": {},
   "outputs": [
    {
     "data": {
      "text/plain": [
       "[1, 2, 3]"
      ]
     },
     "execution_count": 44,
     "metadata": {},
     "output_type": "execute_result"
    }
   ],
   "source": [
    "def solution(arr, query):\n",
    "    for i in range(len(query)):\n",
    "        if i % 2 == 0:\n",
    "            arr = arr[:query[i]+1]\n",
    "        else:\n",
    "            arr = arr[query[i]:]\n",
    "    return arr\n",
    "solution([0,1,2,3,4,5], [4,1,2])"
   ]
  },
  {
   "cell_type": "markdown",
   "metadata": {},
   "source": [
    "n번째 원소부터\n",
    "\n",
    "정수 리스트 num_list와 정수 n이 주어질 때, n 번째 원소부터 마지막 원소까지의 모든 원소를 담은 리스트를 return하도록 solution 함수를 완성해주세요."
   ]
  },
  {
   "cell_type": "code",
   "execution_count": 45,
   "metadata": {},
   "outputs": [
    {
     "data": {
      "text/plain": [
       "[6]"
      ]
     },
     "execution_count": 45,
     "metadata": {},
     "output_type": "execute_result"
    }
   ],
   "source": [
    "def solution(num_list, n):\n",
    "    return num_list[n-1:]\n",
    "solution([2,1,6], 3)"
   ]
  },
  {
   "cell_type": "markdown",
   "metadata": {},
   "source": [
    "순서 바꾸기\n",
    "\n",
    "정수 리스트 num_list와 정수 n이 주어질 때, num_list를 n 번째 원소 이후의 원소들과 n 번째까지의 원소들로 나눠 n 번째 원소 이후의 원소들을 n 번째까지의 원소들 앞에 붙인 리스트를 return하도록 solution 함수를 완성해주세요."
   ]
  },
  {
   "cell_type": "code",
   "execution_count": 46,
   "metadata": {},
   "outputs": [
    {
     "data": {
      "text/plain": [
       "[1, 6, 2]"
      ]
     },
     "execution_count": 46,
     "metadata": {},
     "output_type": "execute_result"
    }
   ],
   "source": [
    "def solution(num_list, n):\n",
    "    return num_list[n:] + num_list[:n]\n",
    "solution([2,1,6], 1)"
   ]
  },
  {
   "cell_type": "markdown",
   "metadata": {},
   "source": [
    "왼쪽 오른쪽\n",
    "\n",
    "문자열 리스트 str_list에는 \"u\", \"d\", \"l\", \"r\" 네 개의 문자열이 여러 개 저장되어 있습니다. str_list에서 \"l\"과 \"r\" 중 먼저 나오는 문자열이 \"l\"이라면 해당 문자열을 기준으로 왼쪽에 있는 문자열들을 순서대로 담은 리스트를, 먼저 나오는 문자열이 \"r\"이라면 해당 문자열을 기준으로 오른쪽에 있는 문자열들을 순서대로 담은 리스트를 return하도록 solution 함수를 완성해주세요. \"l\"이나 \"r\"이 없다면 빈 리스트를 return합니다."
   ]
  },
  {
   "cell_type": "code",
   "execution_count": 47,
   "metadata": {},
   "outputs": [
    {
     "data": {
      "text/plain": [
       "['u', 'u']"
      ]
     },
     "execution_count": 47,
     "metadata": {},
     "output_type": "execute_result"
    }
   ],
   "source": [
    "def solution(str_list):\n",
    "    if 'r' or 'l' in str_list:\n",
    "        for idx in range(len(str_list)):\n",
    "            # r이 먼저 나오면, 오른족에 있는 문자열 리스트 리턴\n",
    "            if str_list[idx] == 'r':\n",
    "                return str_list[idx + 1 : ]\n",
    "            elif str_list[idx] == 'l':\n",
    "                return str_list[ : idx]\n",
    "    # l, r 없을 땐 빈 리스트 리턴  \n",
    "    return []\n",
    "solution([\"u\", \"u\", \"l\", \"r\"])"
   ]
  },
  {
   "cell_type": "markdown",
   "metadata": {},
   "source": [
    "n번째 원소까지\n",
    "\n",
    "정수 리스트 num_list와 정수 n이 주어질 때, num_list의 첫 번째 원소부터 n 번째 원소까지의 모든 원소를 담은 리스트를 return하도록 solution 함수를 완성해주세요."
   ]
  },
  {
   "cell_type": "code",
   "execution_count": 48,
   "metadata": {},
   "outputs": [
    {
     "data": {
      "text/plain": [
       "[2, 1]"
      ]
     },
     "execution_count": 48,
     "metadata": {},
     "output_type": "execute_result"
    }
   ],
   "source": [
    "def solution(num_list, n):\n",
    "    return num_list[:n]\n",
    "solution([2,1,6], 2)"
   ]
  },
  {
   "cell_type": "markdown",
   "metadata": {},
   "source": [
    "n개 간격의 원소들\n",
    "\n",
    "정수 리스트 num_list와 정수 n이 주어질 때, num_list의 첫 번째 원소부터 마지막 원소까지 n개 간격으로 저장되어있는 원소들을 차례로 담은 리스트를 return하도록 solution 함수를 완성해주세요."
   ]
  },
  {
   "cell_type": "code",
   "execution_count": 49,
   "metadata": {},
   "outputs": [
    {
     "data": {
      "text/plain": [
       "[4, 6, 7]"
      ]
     },
     "execution_count": 49,
     "metadata": {},
     "output_type": "execute_result"
    }
   ],
   "source": [
    "def solution(num_list, n):\n",
    "    return num_list[::n]\n",
    "solution([4, 2, 6, 1, 7, 6], 2)"
   ]
  },
  {
   "cell_type": "markdown",
   "metadata": {},
   "source": [
    "홀수 vs 짝수\n",
    "\n",
    "정수 리스트 num_list가 주어집니다. 가장 첫 번째 원소를 1번 원소라고 할 때, 홀수 번째 원소들의 합과 짝수 번째 원소들의 합 중 큰 값을 return 하도록 solution 함수를 완성해주세요. 두 값이 같을 경우 그 값을 return합니다."
   ]
  },
  {
   "cell_type": "code",
   "execution_count": 50,
   "metadata": {},
   "outputs": [
    {
     "ename": "IndentationError",
     "evalue": "expected an indented block after function definition on line 1 (2669525303.py, line 3)",
     "output_type": "error",
     "traceback": [
      "\u001b[0;36m  Cell \u001b[0;32mIn[50], line 3\u001b[0;36m\u001b[0m\n\u001b[0;31m    solution([4, 2, 6, 1, 7, 6])\u001b[0m\n\u001b[0m    ^\u001b[0m\n\u001b[0;31mIndentationError\u001b[0m\u001b[0;31m:\u001b[0m expected an indented block after function definition on line 1\n"
     ]
    }
   ],
   "source": [
    "def solution(num_list):\n",
    "\n",
    "solution([4, 2, 6, 1, 7, 6])"
   ]
  },
  {
   "cell_type": "markdown",
   "metadata": {},
   "source": [
    "홀수 vs 짝수\n",
    "\n",
    "정수 리스트 num_list가 주어집니다. 가장 첫 번째 원소를 1번 원소라고 할 때, 홀수 번째 원소들의 합과 짝수 번째 원소들의 합 중 큰 값을 return 하도록 solution 함수를 완성해주세요. 두 값이 같을 경우 그 값을 return합니다."
   ]
  },
  {
   "cell_type": "code",
   "execution_count": null,
   "metadata": {},
   "outputs": [],
   "source": [
    "def solution(num_list):\n",
    "    odd = 0\n",
    "    even = 0\n",
    "    odd = sum([num_list[i] for i in range(len(num_list)) if i % 2 == 1])\n",
    "    even = sum([num_list[i] for i in range(len(num_list)) if i % 2 == 0])\n",
    "    if odd > even:\n",
    "        return odd\n",
    "    else:\n",
    "        return even\n",
    "solution([4, 2, 6, 1, 7, 6]\t)\n",
    "\n",
    "# 다른 사람 풀이\n",
    "def solution(num_list):\n",
    "    return max(sum(num_list[::2]), sum(num_list[1::2]))"
   ]
  },
  {
   "cell_type": "markdown",
   "metadata": {},
   "source": [
    "5명씩\n",
    "\n",
    "최대 5명씩 탑승가능한 놀이기구를 타기 위해 줄을 서있는 사람들의 이름이 담긴 문자열 리스트 names가 주어질 때, 앞에서 부터 5명씩 묶은 그룹의 가장 앞에 서있는 사람들의 이름을 담은 리스트를 return하도록 solution 함수를 완성해주세요. 마지막 그룹이 5명이 되지 않더라도 가장 앞에 있는 사람의 이름을 포함합니다."
   ]
  },
  {
   "cell_type": "code",
   "execution_count": null,
   "metadata": {},
   "outputs": [
    {
     "data": {
      "text/plain": [
       "['nami', 'vex']"
      ]
     },
     "execution_count": 6,
     "metadata": {},
     "output_type": "execute_result"
    }
   ],
   "source": [
    "def solution(names):\n",
    "    return names[::5]\n",
    "solution([\"nami\", \"ahri\", \"jayce\", \"garen\", \"ivern\", \"vex\", \"jinx\"])"
   ]
  },
  {
   "cell_type": "markdown",
   "metadata": {},
   "source": [
    "할 일 목록\n",
    "\n",
    "오늘 해야 할 일이 담긴 문자열 배열 todo_list와 각각의 일을 지금 마쳤는지를 나타내는 boolean 배열 finished가 매개변수로 주어질 때, todo_list에서 아직 마치지 못한 일들을 순서대로 담은 문자열 배열을 return 하는 solution 함수를 작성해 주세요."
   ]
  },
  {
   "cell_type": "code",
   "execution_count": null,
   "metadata": {},
   "outputs": [],
   "source": [
    "def solution(todo_list, finished):\n",
    "    answer = []\n",
    "    for i in range(len(finished)):\n",
    "        if int(finished[i]) == 0:\n",
    "            answer.append(todo_list[i])\n",
    "    return answer\n",
    "solution([\"problemsolving\", \"practiceguitar\", \"swim\", \"studygraph\"],\n",
    "        [True, False, True, False])\n",
    "\n",
    "# 다른 사람 풀이; zip을 이용한.\n",
    "def solution(todo_list, finished):\n",
    "    return [x for x, b in zip(todo_list, finished) if not b]"
   ]
  },
  {
   "cell_type": "code",
   "execution_count": null,
   "metadata": {},
   "outputs": [
    {
     "name": "stdout",
     "output_type": "stream",
     "text": [
      "찬찬 True\n",
      "허영 False\n",
      "이원 False\n",
      "전성 True\n",
      "['찬찬', '전성']\n",
      "['허영', '이원']\n"
     ]
    }
   ],
   "source": [
    "# zip & if True study\n",
    "name = ['찬찬', '허영', '이원', '전성']\n",
    "grade = [True, False, False, True]\n",
    "\n",
    "for n, g in zip(name, grade):\n",
    "    print(n,g)\n",
    "print([n for n, g in zip(name, grade) if g])\n",
    "print([n for n, g in zip(name, grade) if not g])"
   ]
  },
  {
   "cell_type": "markdown",
   "metadata": {},
   "source": [
    "n보다 커질 때까지 더하기\n",
    "\n",
    "정수 배열 numbers와 정수 n이 매개변수로 주어집니다. numbers의 원소를 앞에서부터 하나씩 더하다가 그 합이 n보다 커지는 순간 이때까지 더했던 원소들의 합을 return 하는 solution 함수를 작성해 주세요."
   ]
  },
  {
   "cell_type": "code",
   "execution_count": null,
   "metadata": {},
   "outputs": [
    {
     "data": {
      "text/plain": [
       "139"
      ]
     },
     "execution_count": 19,
     "metadata": {},
     "output_type": "execute_result"
    }
   ],
   "source": [
    "def solution(numbers, n):\n",
    "    sum = 0\n",
    "    for i in range(len(numbers)):\n",
    "        sum += numbers[i]\n",
    "        if sum > n:\n",
    "            return sum\n",
    "solution([34, 5, 71, 29, 100, 34], 123)"
   ]
  },
  {
   "cell_type": "markdown",
   "metadata": {},
   "source": [
    "수열과 구간 쿼리 1\n",
    "\n",
    "정수 배열 arr와 2차원 정수 배열 queries이 주어집니다. queries의 원소는 각각 하나의 query를 나타내며, [s, e] 꼴입니다.\n",
    "\n",
    "각 query마다 순서대로 s ≤ i ≤ e인 모든 i에 대해 arr[i]에 1을 더합니다.\n",
    "\n",
    "위 규칙에 따라 queries를 처리한 이후의 arr를 return 하는 solution 함수를 완성해 주세요."
   ]
  },
  {
   "cell_type": "code",
   "execution_count": null,
   "metadata": {},
   "outputs": [],
   "source": [
    "def solution(arr, queries):\n",
    "    for i in range(len(queries)):\n",
    "        srt = queries[i][0]\n",
    "        while srt <= queries[i][1]:\n",
    "            arr[srt] += 1\n",
    "            srt += 1\n",
    "    return arr\n",
    "solution([0, 1, 2, 3, 4], [[0, 1],[1, 2],[2, 3]])\n",
    "\n",
    "# 다른 사람 풀이\n",
    "def solution(arr, queries):\n",
    "    for s, f in range(queries):\n",
    "        for i in range(s, f+1): arr[i] += 1\n",
    "    return arr"
   ]
  },
  {
   "cell_type": "markdown",
   "metadata": {},
   "source": [
    "조건에 맞게 수열 변환하기 1\n",
    "\n",
    "정수 배열 arr가 주어집니다. arr의 각 원소에 대해 값이 50보다 크거나 같은 짝수라면 2로 나누고, 50보다 작은 홀수라면 2를 곱합니다. 그 결과인 정수 배열을 return 하는 solution 함수를 완성해 주세요."
   ]
  },
  {
   "cell_type": "code",
   "execution_count": null,
   "metadata": {},
   "outputs": [
    {
     "data": {
      "text/plain": [
       "[2, 2, 6, 50.0, 99, 49.0]"
      ]
     },
     "execution_count": 2,
     "metadata": {},
     "output_type": "execute_result"
    }
   ],
   "source": [
    "def solution(arr):\n",
    "    for i in range(len(arr)):\n",
    "        if arr[i] >= 50 and (arr[i] % 2) == 0:\n",
    "            arr[i] = arr[i] / 2\n",
    "        elif arr[i] < 50 and (arr[i] % 2) != 0:\n",
    "            arr[i] = arr[i] * 2\n",
    "    return arr\n",
    "solution([1, 2, 3, 100, 99, 98])"
   ]
  },
  {
   "cell_type": "markdown",
   "metadata": {},
   "source": [
    "조건에 맞게 수열 변환하기 2\n",
    "\n",
    "정수 배열 arr가 주어집니다. arr의 각 원소에 대해 값이 50보다 크거나 같은 짝수라면 2로 나누고, 50보다 작은 홀수라면 2를 곱하고 다시 1을 더합니다.\n",
    "\n",
    "이러한 작업을 x번 반복한 결과인 배열을 arr(x)라고 표현했을 때, arr(x) = arr(x + 1)인 x가 항상 존재합니다. 이러한 x 중 가장 작은 값을 return 하는 solution 함수를 완성해 주세요.\n",
    "\n",
    "단, 두 배열에 대한 \"=\"는 두 배열의 크기가 서로 같으며, 같은 인덱스의 원소가 각각 서로 같음을 의미합니다."
   ]
  },
  {
   "cell_type": "code",
   "execution_count": null,
   "metadata": {},
   "outputs": [
    {
     "name": "stdout",
     "output_type": "stream",
     "text": [
      "[1, 2, 3, 100, 99, 98]\n",
      "[3, 2, 7, 50.0, 99, 49.0]\n",
      "[7, 2, 15, 25.0, 99, 99.0]\n",
      "[15, 2, 31, 51.0, 99, 99.0]\n",
      "[31, 2, 63, 51.0, 99, 99.0]\n",
      "[63, 2, 63, 51.0, 99, 99.0]\n",
      "[63, 2, 63, 51.0, 99, 99.0]\n",
      "[63, 2, 63, 51.0, 99, 99.0]\n"
     ]
    },
    {
     "data": {
      "text/plain": [
       "5"
      ]
     },
     "execution_count": 17,
     "metadata": {},
     "output_type": "execute_result"
    }
   ],
   "source": [
    "def solution(arr):\n",
    "    cnt = 0\n",
    "    while True:\n",
    "        x = arr.copy()\n",
    "        for i in range(len(arr)):\n",
    "            if arr[i] >= 50 and (arr[i] % 2) == 0:\n",
    "                arr[i] = arr[i] / 2\n",
    "            elif arr[i] < 50 and (arr[i] % 2) != 0:\n",
    "                arr[i] = arr[i] * 2 + 1\n",
    "        if x == arr:\n",
    "            return cnt\n",
    "        else:\n",
    "            cnt += 1\n",
    "solution([1, 2, 3, 100, 99, 98])"
   ]
  },
  {
   "cell_type": "markdown",
   "metadata": {},
   "source": [
    "1로 만들기"
   ]
  },
  {
   "cell_type": "code",
   "execution_count": null,
   "metadata": {},
   "outputs": [
    {
     "data": {
      "text/plain": [
       "600"
      ]
     },
     "execution_count": 55,
     "metadata": {},
     "output_type": "execute_result"
    }
   ],
   "source": [
    "from math import prod\n",
    "\n",
    "list = [1,2,3,4,5]\n",
    "prod(list, start = 5)"
   ]
  },
  {
   "cell_type": "code",
   "execution_count": null,
   "metadata": {},
   "outputs": [
    {
     "data": {
      "text/plain": [
       "11"
      ]
     },
     "execution_count": 32,
     "metadata": {},
     "output_type": "execute_result"
    }
   ],
   "source": [
    "def solution(num_list):\n",
    "    cnt = 0\n",
    "    while True:\n",
    "        for num in range(len(num_list)):\n",
    "            if num_list[num] == 1:\n",
    "                continue\n",
    "            # 짝수라면 반 나눔\n",
    "            if num_list[num] % 2 == 0:\n",
    "                cnt += 1\n",
    "                num_list[num] = num_list[num] / 2\n",
    "            # 홀수라면 1 뺀 뒤 반으로 나눔\n",
    "            else:\n",
    "                cnt += 1\n",
    "                num_list[num] = (num_list[num] -1) / 2\n",
    "        if sum(num_list) == len(num_list):\n",
    "            return cnt\n",
    "solution([12,4, 15, 1, 14])\n",
    "\n",
    "# 다른 사람 풀이\n",
    "def solution(num_list):\n",
    "    cnt = 0\n",
    "    for num in num_list:\n",
    "        while num != 1:\n",
    "            num = num // 2\n",
    "            cnt += 1\n",
    "    return cnt\n",
    "solution([12,4, 15, 1, 14])"
   ]
  },
  {
   "cell_type": "markdown",
   "metadata": {},
   "source": [
    "길이에 따른 연산"
   ]
  },
  {
   "cell_type": "code",
   "execution_count": null,
   "metadata": {},
   "outputs": [
    {
     "data": {
      "text/plain": [
       "302400"
      ]
     },
     "execution_count": 22,
     "metadata": {},
     "output_type": "execute_result"
    }
   ],
   "source": [
    "def solution(num_list):\n",
    "    mul = 1\n",
    "    if len(num_list) > 10: \n",
    "        return sum([num for num in num_list])\n",
    "    else:\n",
    "        for num in num_list:\n",
    "            mul *= num\n",
    "        return mul\n",
    "# solution([3, 4, 5, 2, 5, 4, 6, 7, 3, 7, 2, 2, 1])\n",
    "\n",
    "# 다른 사람의 풀이 : math 내 prod 함수 사용\n",
    "from math import prod\n",
    "def solution(num_list):\n",
    "    return sum(num_list) if len(num_list) > 10 else prod(num_list)\n",
    "\n",
    "solution([3, 4, 5, 2, 5, 4, 6, 7, 3, 1])"
   ]
  },
  {
   "cell_type": "markdown",
   "metadata": {},
   "source": [
    "원하는 문자열 찾기"
   ]
  },
  {
   "cell_type": "code",
   "execution_count": null,
   "metadata": {},
   "outputs": [
    {
     "data": {
      "text/plain": [
       "0"
      ]
     },
     "execution_count": 29,
     "metadata": {},
     "output_type": "execute_result"
    }
   ],
   "source": [
    "def solution(myString, pat):\n",
    "    return 1 if pat.lower() in myString.lower() else 0\n",
    "solution(\"aaAA\", \"aaaaaa\")"
   ]
  },
  {
   "cell_type": "markdown",
   "metadata": {},
   "source": [
    "대문자로 바꾸기"
   ]
  },
  {
   "cell_type": "code",
   "execution_count": null,
   "metadata": {},
   "outputs": [],
   "source": [
    "def solution(myString):\n",
    "    return myString.upper()"
   ]
  },
  {
   "cell_type": "markdown",
   "metadata": {},
   "source": [
    "소문자로 바꾸기"
   ]
  },
  {
   "cell_type": "code",
   "execution_count": null,
   "metadata": {},
   "outputs": [],
   "source": [
    "def solution(myString):\n",
    "    return myString.lower()"
   ]
  },
  {
   "cell_type": "markdown",
   "metadata": {},
   "source": [
    "배열에서 문자열 대소문자 변환하기"
   ]
  },
  {
   "cell_type": "code",
   "execution_count": null,
   "metadata": {},
   "outputs": [
    {
     "data": {
      "text/plain": [
       "['abc', 'ABC']"
      ]
     },
     "execution_count": 48,
     "metadata": {},
     "output_type": "execute_result"
    }
   ],
   "source": [
    "def solution(strArr):\n",
    "    # 리스트 컴프리헨션에서 if, else의 위치\n",
    "    return [strArr[i].upper() if (i % 2) !=0 else strArr[i].lower() for i in range(len(strArr))]\n",
    "solution([\"aBc\",\"AbC\"]\t)\n",
    "\n",
    "# 다른 사람 풀이 : enumerate\n",
    "def solution(strArr):\n",
    "    return [s.upper() if (i%2) != 0 else s.lower() for i, s in enumerate(strArr)]\n",
    "solution([\"aBc\",\"AbC\"]\t)"
   ]
  },
  {
   "cell_type": "code",
   "execution_count": null,
   "metadata": {},
   "outputs": [
    {
     "name": "stdout",
     "output_type": "stream",
     "text": [
      "0 aBc\n",
      "1 AbC\n"
     ]
    }
   ],
   "source": [
    "# enumerate 작동 방식\n",
    "for i,s in enumerate([\"aBc\",\"AbC\"]):\n",
    "    print(i,s )"
   ]
  },
  {
   "cell_type": "markdown",
   "metadata": {},
   "source": [
    "A 강조하기"
   ]
  },
  {
   "cell_type": "code",
   "execution_count": null,
   "metadata": {},
   "outputs": [],
   "source": [
    "def solution(myString):\n",
    "    return ''.join([str.upper() if str == 'a' else str.lower() if (str.isupper() and str != 'A') else str for str in myString ])\n",
    "solution(\"abstract algebra\")\n",
    "\n",
    "# 다른 사람 풀이 \n",
    "# 1. myString -> 소문자로 전부 변경\n",
    "# 2. a인 것은 A로 변경\n",
    "def solution(myString):\n",
    "    return myString.lower().replace('a', 'A')"
   ]
  },
  {
   "cell_type": "code",
   "execution_count": null,
   "metadata": {},
   "outputs": [
    {
     "data": {
      "text/plain": [
       "'AbstrAct AlgebrA'"
      ]
     },
     "execution_count": 9,
     "metadata": {},
     "output_type": "execute_result"
    }
   ],
   "source": [
    "solution(\"abstract algebra\")"
   ]
  },
  {
   "cell_type": "markdown",
   "metadata": {},
   "source": [
    "특정한 문자 대문자로 바꾸기"
   ]
  },
  {
   "cell_type": "code",
   "execution_count": null,
   "metadata": {},
   "outputs": [],
   "source": [
    "def solution(my_string, alp):\n",
    "    return my_string.replace(alp, alp.upper())"
   ]
  },
  {
   "cell_type": "markdown",
   "metadata": {},
   "source": [
    "특정 문자열로 끝나는 가장 긴 부분 문자열 찾기"
   ]
  },
  {
   "cell_type": "code",
   "execution_count": null,
   "metadata": {},
   "outputs": [],
   "source": [
    "def solution(myString, pat):\n",
    "    idx = myString.rindex(pat) + len(pat)\n",
    "    return myString[:idx]"
   ]
  },
  {
   "cell_type": "markdown",
   "metadata": {},
   "source": [
    "문자열이 몇 번 등장하는지 세기"
   ]
  },
  {
   "cell_type": "code",
   "execution_count": null,
   "metadata": {},
   "outputs": [
    {
     "data": {
      "text/plain": [
       "2"
      ]
     },
     "execution_count": 32,
     "metadata": {},
     "output_type": "execute_result"
    }
   ],
   "source": [
    "def solution(myString, pat):\n",
    "    cnt = 0\n",
    "    n = len(pat)\n",
    "    for i in range(len(myString)):\n",
    "        if myString[i:n+i] == pat:\n",
    "            cnt +=1\n",
    "    return cnt\n",
    "solution('banana', 'ana')"
   ]
  },
  {
   "cell_type": "markdown",
   "metadata": {},
   "source": [
    "ad 제거하기"
   ]
  },
  {
   "cell_type": "code",
   "execution_count": 80,
   "metadata": {},
   "outputs": [
    {
     "data": {
      "text/plain": [
       "['and', 'abcd']"
      ]
     },
     "execution_count": 80,
     "metadata": {},
     "output_type": "execute_result"
    }
   ],
   "source": [
    "def solution(strArr):\n",
    "    result = []\n",
    "    for str in strArr:\n",
    "        if \"ad\" in str:\n",
    "            continue\n",
    "        result.append(str)\n",
    "    return result\n",
    "solution([\"and\",\"notad\",\"abcd\"])\n",
    "\n",
    "# 다른 사람 풀이 : 리스트 컴프리헨션\n",
    "def solution(strArr):\n",
    "    return [word for word in strArr if 'ad' not in word]\n",
    "solution([\"and\",\"notad\",\"abcd\"])"
   ]
  },
  {
   "cell_type": "markdown",
   "metadata": {},
   "source": [
    "x 사이의 개수"
   ]
  },
  {
   "cell_type": "code",
   "execution_count": 11,
   "metadata": {},
   "outputs": [
    {
     "data": {
      "text/plain": [
       "[0, 3, 3, 3]"
      ]
     },
     "execution_count": 11,
     "metadata": {},
     "output_type": "execute_result"
    }
   ],
   "source": [
    "def solution(myString):\n",
    "    answer = myString.split('x')\n",
    "    return [len(i) for i in answer ]\n",
    "solution(\"xabcxdefxghi\")"
   ]
  },
  {
   "cell_type": "markdown",
   "metadata": {},
   "source": [
    "문자열 잘라서 정렬하기"
   ]
  },
  {
   "cell_type": "code",
   "execution_count": 29,
   "metadata": {},
   "outputs": [
    {
     "data": {
      "text/plain": [
       "['a', 'b', 'c', 'd']"
      ]
     },
     "execution_count": 29,
     "metadata": {},
     "output_type": "execute_result"
    }
   ],
   "source": [
    "def solution(myString):\n",
    "    # string.split(separator, maxsplit=최대 몇 번 분할)\n",
    "    return [str for str in sorted(myString.split('x')) if str]\n",
    "solution(\"axbxcxdx\")"
   ]
  },
  {
   "cell_type": "markdown",
   "metadata": {},
   "source": [
    "간단한 식 계산하기"
   ]
  },
  {
   "cell_type": "code",
   "execution_count": 56,
   "metadata": {},
   "outputs": [
    {
     "data": {
      "text/plain": [
       "'\\neval(\\'표현식\\') -> 표현식을 실행\\n매개변수로, 표현식, 함수, \"__import__(\\'os\\').system(\\'ls -altr\\')\" 등등이 가능하다.\\n즉, 여러 사용자들이 함께 사용하는 프로그램에 사용하게 될 경우, 사용자에 의해 위험하게 작동될 수 있다.\\n'"
      ]
     },
     "execution_count": 56,
     "metadata": {},
     "output_type": "execute_result"
    }
   ],
   "source": [
    "def solution(binomial):\n",
    "    num1, ope, num2 = binomial.split()\n",
    "    num1, num2= int(num1), int(num2)\n",
    "    if ope == '+':\n",
    "        return num1 + num2\n",
    "    elif ope == \"-\":\n",
    "        return num1 - num2\n",
    "    else:\n",
    "        return num1 * num2\n",
    "solution(\"40000 * 40000\")\n",
    "\n",
    "# 다른 사람 풀이 - eval\n",
    "solution = eval\n",
    "\"\"\"\n",
    "eval('표현식') -> 표현식을 실행\n",
    "매개변수로, 표현식, 함수, \"__import__('os').system('ls -altr')\" 등등이 가능하다.\n",
    "즉, 여러 사용자들이 함께 사용하는 프로그램에 사용하게 될 경우, 사용자에 의해 위험하게 작동될 수 있다.\n",
    "\"\"\""
   ]
  },
  {
   "cell_type": "markdown",
   "metadata": {},
   "source": [
    "문자열 바꿔서 찾기"
   ]
  },
  {
   "cell_type": "code",
   "execution_count": 59,
   "metadata": {},
   "outputs": [
    {
     "data": {
      "text/plain": [
       "1"
      ]
     },
     "execution_count": 59,
     "metadata": {},
     "output_type": "execute_result"
    }
   ],
   "source": [
    "def solution(myString, pat):\n",
    "    myString = ''.join([ \"A\" if str == \"B\" else \"B\" for str in myString])\n",
    "    return int(pat in myString)\n",
    "solution(\"ABBAA\", \"AABB\")"
   ]
  },
  {
   "cell_type": "code",
   "execution_count": null,
   "metadata": {},
   "outputs": [],
   "source": []
  }
 ],
 "metadata": {
  "kernelspec": {
   "display_name": "sun_chnn",
   "language": "python",
   "name": "python3"
  },
  "language_info": {
   "codemirror_mode": {
    "name": "ipython",
    "version": 3
   },
   "file_extension": ".py",
   "mimetype": "text/x-python",
   "name": "python",
   "nbconvert_exporter": "python",
   "pygments_lexer": "ipython3",
   "version": "3.10.14"
  }
 },
 "nbformat": 4,
 "nbformat_minor": 2
}
