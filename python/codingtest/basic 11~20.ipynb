{
 "cells": [
  {
   "cell_type": "markdown",
   "metadata": {},
   "source": [
    "문자 개수 세기\n",
    "\n",
    "알파벳 대소문자로만 이루어진 문자열 my_string이 주어질 때, my_string에서 'A'의 개수, my_string에서 'B'의 개수,..., my_string에서 'Z'의 개수, my_string에서 'a'의 개수, my_string에서 'b'의 개수,..., my_string에서 'z'의 개수를 순서대로 담은 길이 52의 정수 배열을 return 하는 solution 함수를 작성해 주세요."
   ]
  },
  {
   "cell_type": "code",
   "execution_count": 11,
   "metadata": {},
   "outputs": [
    {
     "data": {
      "text/plain": [
       "[0,\n",
       " 0,\n",
       " 0,\n",
       " 0,\n",
       " 0,\n",
       " 0,\n",
       " 0,\n",
       " 0,\n",
       " 0,\n",
       " 0,\n",
       " 0,\n",
       " 0,\n",
       " 0,\n",
       " 0,\n",
       " 0,\n",
       " 1,\n",
       " 0,\n",
       " 0,\n",
       " 0,\n",
       " 0,\n",
       " 0,\n",
       " 0,\n",
       " 0,\n",
       " 0,\n",
       " 0,\n",
       " 0,\n",
       " 1,\n",
       " 0,\n",
       " 0,\n",
       " 0,\n",
       " 1,\n",
       " 0,\n",
       " 1,\n",
       " 0,\n",
       " 0,\n",
       " 0,\n",
       " 0,\n",
       " 0,\n",
       " 2,\n",
       " 0,\n",
       " 1,\n",
       " 0,\n",
       " 0,\n",
       " 3,\n",
       " 1,\n",
       " 0,\n",
       " 0,\n",
       " 0,\n",
       " 0,\n",
       " 0,\n",
       " 0,\n",
       " 0]"
      ]
     },
     "execution_count": 11,
     "metadata": {},
     "output_type": "execute_result"
    }
   ],
   "source": [
    "# 유니코드 대문자 : 65~90, 소문자 : 97~122\n",
    "# 1. 총 52개의 빈 배열을 만들고\n",
    "# 2. my_string 하나씩 돌면서 알파벳 위치에 맞는 배열 인덱스 값 수정\n",
    "\n",
    "def solution(my_string):\n",
    "    answer = [0 for i in range(52)]\n",
    "    for char in my_string:\n",
    "        # 소문자일 때,\n",
    "        if char >= 'a':\n",
    "            # 'a' : 97 -> 26\n",
    "            answer[ord(char) - 71] += 1\n",
    "        # 대문자일 때,\n",
    "        else:\n",
    "            answer[ord(char) - 65] += 1\n",
    "            \n",
    "    \n",
    "    return answer\n",
    "\n",
    "solution(\"Programmers\")\n",
    "\n",
    "# 다른 풀이 : 리스트도 연산을 적용할 수 있다는 점을 이용해 더 최적화 된 코드.\n",
    "answer = [0] * 52"
   ]
  },
  {
   "cell_type": "markdown",
   "metadata": {},
   "source": [
    "배열 만들기 1\n",
    "\n",
    "정수 n과 k가 주어졌을 때, 1 이상 n이하의 정수 중에서 k의 배수를 오름차순으로 저장한 배열을 return 하는 solution 함수를 완성해 주세요."
   ]
  },
  {
   "cell_type": "code",
   "execution_count": 17,
   "metadata": {},
   "outputs": [
    {
     "data": {
      "text/plain": [
       "[5, 10, 15]"
      ]
     },
     "execution_count": 17,
     "metadata": {},
     "output_type": "execute_result"
    }
   ],
   "source": [
    "def solution(n, k):\n",
    "    return [num for num in range(0,n+1,k) if num != 0]\n",
    "solution(15, 5)\n",
    "\n",
    "# 다른 풀이 : k부터 시작.\n",
    "# [num for num in range(k, n+1, k)]"
   ]
  },
  {
   "cell_type": "markdown",
   "metadata": {},
   "source": [
    "글자 지우기\n",
    "\n",
    "문자열 my_string과 정수 배열 indices가 주어질 때, my_string에서 indices의 원소에 해당하는 인덱스의 글자를 지우고 이어 붙인 문자열을 return 하는 solution 함수를 작성해 주세요.\n"
   ]
  },
  {
   "cell_type": "code",
   "execution_count": 23,
   "metadata": {},
   "outputs": [
    {
     "data": {
      "text/plain": [
       "'programmers'"
      ]
     },
     "execution_count": 23,
     "metadata": {},
     "output_type": "execute_result"
    }
   ],
   "source": [
    "def solution(my_string, indices):\n",
    "    my_string = list(my_string)\n",
    "    indices.sort(reverse=True)\n",
    "    for i in indices:\n",
    "        my_string.pop(i)\n",
    "    return ''.join(my_string)\n",
    "solution(\"apporoograpemmemprs\", [1, 16, 6, 15, 0, 10, 11, 3])"
   ]
  },
  {
   "cell_type": "code",
   "execution_count": 22,
   "metadata": {},
   "outputs": [
    {
     "name": "stdout",
     "output_type": "stream",
     "text": [
      "['a', 'b', 'c', 'e', 'f', 'g']\n"
     ]
    },
    {
     "data": {
      "text/plain": [
       "[6, 5, 2, 2, 1]"
      ]
     },
     "execution_count": 22,
     "metadata": {},
     "output_type": "execute_result"
    }
   ],
   "source": [
    "str = 'abcdefg'\n",
    "str = list(str)\n",
    "str.pop(3)\n",
    "print(str)\n",
    "num = [2,5,6,1,2]\n",
    "num.sort(reverse=True)\n",
    "num"
   ]
  },
  {
   "cell_type": "markdown",
   "metadata": {},
   "source": [
    "카운트 다운\n",
    "\n",
    "정수 start_num와 end_num가 주어질 때, start_num에서 end_num까지 1씩 감소하는 수들을 차례로 담은 리스트를 return하도록 solution 함수를 완성해주세요."
   ]
  },
  {
   "cell_type": "code",
   "execution_count": 28,
   "metadata": {},
   "outputs": [
    {
     "data": {
      "text/plain": [
       "[10, 9, 8, 7, 6, 5, 4, 3]"
      ]
     },
     "execution_count": 28,
     "metadata": {},
     "output_type": "execute_result"
    }
   ],
   "source": [
    "def solution(start_num, end_num):\n",
    "    return [n for n in range(start_num,end_num-1,-1)]\n",
    "solution(10, 3)"
   ]
  },
  {
   "cell_type": "markdown",
   "metadata": {},
   "source": [
    "가까운 1 찾기\n",
    "\n",
    "정수 배열 arr가 주어집니다. 이때 arr의 원소는 1 또는 0입니다. 정수 idx가 주어졌을 때, idx보다 크면서 배열의 값이 1인 가장 작은 인덱스를 찾아서 반환하는 solution 함수를 완성해 주세요.\n",
    "\n",
    "단, 만약 그러한 인덱스가 없다면 -1을 반환합니다."
   ]
  },
  {
   "cell_type": "code",
   "execution_count": 45,
   "metadata": {},
   "outputs": [
    {
     "data": {
      "text/plain": [
       "-1"
      ]
     },
     "execution_count": 45,
     "metadata": {},
     "output_type": "execute_result"
    }
   ],
   "source": [
    "# list 내에서 특정 값을 찾고자 하는 경우 : index - 첫번째 값의 index 값 반환\n",
    "def solution(arr, idx):\n",
    "    # list슬라이싱해서, 1이 없으면 오류가 발생하므로 count로 있는 경우아 없는 경우 나눠서 작업\n",
    "    if arr[idx:].count(1) != 0:\n",
    "        return arr.index(1, idx)\n",
    "    else:\n",
    "        return -1\n",
    "\n",
    "solution([1, 1, 1, 1, 0], 4)"
   ]
  }
 ],
 "metadata": {
  "kernelspec": {
   "display_name": "base",
   "language": "python",
   "name": "python3"
  },
  "language_info": {
   "codemirror_mode": {
    "name": "ipython",
    "version": 3
   },
   "file_extension": ".py",
   "mimetype": "text/x-python",
   "name": "python",
   "nbconvert_exporter": "python",
   "pygments_lexer": "ipython3",
   "version": "3.11.7"
  }
 },
 "nbformat": 4,
 "nbformat_minor": 2
}
