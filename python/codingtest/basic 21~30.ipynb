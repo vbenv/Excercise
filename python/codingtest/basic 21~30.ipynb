{
 "cells": [
  {
   "cell_type": "markdown",
   "metadata": {},
   "source": [
    "### D-21"
   ]
  },
  {
   "cell_type": "markdown",
   "metadata": {},
   "source": [
    "뒤에서 5등 위로"
   ]
  },
  {
   "cell_type": "code",
   "execution_count": 1,
   "metadata": {},
   "outputs": [],
   "source": [
    "def solution(num_list):\n",
    "    return sorted(num_list)[5:]"
   ]
  },
  {
   "cell_type": "markdown",
   "metadata": {},
   "source": [
    "전국 대회 선발 고사"
   ]
  },
  {
   "cell_type": "code",
   "execution_count": null,
   "metadata": {},
   "outputs": [],
   "source": [
    "def solution(rank, attendance):\n",
    "    result = []\n",
    "    for i in range(len(attendance)):\n",
    "        if attendance[i]:\n",
    "            result.append(rank[i])\n",
    "    a,b,c = [rank.index(num) for num in sorted(result)[:3]]     # 정렬한 다음의 1~3위를 선택\n",
    "    return 10000 * a + 100 * b + c"
   ]
  },
  {
   "cell_type": "markdown",
   "metadata": {},
   "source": [
    "문자열 정수의 합"
   ]
  },
  {
   "cell_type": "code",
   "execution_count": null,
   "metadata": {},
   "outputs": [],
   "source": [
    "def solution(num_str):\n",
    "    return sum([int(str) for str in num_str])\n",
    "# 다른 풀이 : map(dtype, iterable) -> 각 요소를 dtype형태로 바꿔줌\n",
    "def solution(num_str):\n",
    "    return sum(map(int, num_str))\n"
   ]
  },
  {
   "cell_type": "markdown",
   "metadata": {},
   "source": [
    "문자열을 정수로 변환하기"
   ]
  },
  {
   "cell_type": "code",
   "execution_count": 23,
   "metadata": {},
   "outputs": [],
   "source": [
    "def solution(n_str):\n",
    "    return int(n_str)\n",
    "# 다른 풀이 : solution 자체를 함수로 변환하여 사용\n",
    "solution = int\n",
    "solution = lambda x : int(x)"
   ]
  },
  {
   "cell_type": "markdown",
   "metadata": {},
   "source": [
    "0 떼기"
   ]
  },
  {
   "cell_type": "code",
   "execution_count": null,
   "metadata": {},
   "outputs": [
    {
     "data": {
      "text/plain": [
       "10"
      ]
     },
     "execution_count": 3,
     "metadata": {},
     "output_type": "execute_result"
    }
   ],
   "source": [
    "def solition(n_str):\n",
    "    return str(int(n_str))\n",
    "## 다른 풀이 : lstrip - 왼쪽 특정 문자 제거\n",
    "def solution(n_str):\n",
    "    return n_str.lstrip('0')"
   ]
  },
  {
   "cell_type": "markdown",
   "metadata": {},
   "source": [
    "두 수의 합"
   ]
  },
  {
   "cell_type": "code",
   "execution_count": 4,
   "metadata": {},
   "outputs": [],
   "source": [
    "def solution(a,b):\n",
    "    return str(int(a) + int(b))"
   ]
  },
  {
   "cell_type": "markdown",
   "metadata": {},
   "source": [
    "문자열로 변환"
   ]
  },
  {
   "cell_type": "code",
   "execution_count": 5,
   "metadata": {},
   "outputs": [],
   "source": [
    "def solution(n):\n",
    "    return str(n)\n",
    "\n",
    "# other solution : str() -> scratch code\n",
    "def solution(n):\n",
    "    answer = f'{n}'\n",
    "    return answer"
   ]
  },
  {
   "cell_type": "markdown",
   "metadata": {},
   "source": [
    "배열의 원소 삭제하기"
   ]
  },
  {
   "cell_type": "code",
   "execution_count": 8,
   "metadata": {},
   "outputs": [
    {
     "data": {
      "text/plain": [
       "[293, 395, 678]"
      ]
     },
     "execution_count": 8,
     "metadata": {},
     "output_type": "execute_result"
    }
   ],
   "source": [
    "def solution(arr, delete_list):\n",
    "    return [num for num in arr if num not in delete_list]\n",
    "solution([293, 1000, 395, 678, 94],\t[94, 777, 104, 1000, 1, 12])"
   ]
  },
  {
   "cell_type": "markdown",
   "metadata": {},
   "source": [
    "부분 문자열인지 확인"
   ]
  },
  {
   "cell_type": "code",
   "execution_count": 10,
   "metadata": {},
   "outputs": [],
   "source": [
    "def solution(my_string, target):\n",
    "    return 1 if target in my_string else 0\n",
    "\n",
    "# other solution : bool, lambda\n",
    "def solution(str, target):\n",
    "    return int(target in str)\n",
    "\n",
    "solution = lambda x,y : int(y in x)\n"
   ]
  },
  {
   "cell_type": "markdown",
   "metadata": {},
   "source": [
    "부분 문자열"
   ]
  },
  {
   "cell_type": "code",
   "execution_count": 3,
   "metadata": {},
   "outputs": [
    {
     "data": {
      "text/plain": [
       "0"
      ]
     },
     "execution_count": 3,
     "metadata": {},
     "output_type": "execute_result"
    }
   ],
   "source": [
    "def solution(str1, str2):\n",
    "    return int(str1 in str2)\n",
    "solution('abcdc', 'aabcc')"
   ]
  },
  {
   "cell_type": "markdown",
   "metadata": {},
   "source": [
    "꼬리 문자열"
   ]
  },
  {
   "cell_type": "code",
   "execution_count": null,
   "metadata": {},
   "outputs": [],
   "source": [
    "def solution(str_list, ex):\n",
    "    return ''.join([str for str in str_list if ex not in str])"
   ]
  },
  {
   "cell_type": "markdown",
   "metadata": {},
   "source": [
    "정수 찾기"
   ]
  },
  {
   "cell_type": "code",
   "execution_count": null,
   "metadata": {},
   "outputs": [],
   "source": [
    "def solution(num_list, n):\n",
    "    return int(n in num_list)"
   ]
  },
  {
   "cell_type": "markdown",
   "metadata": {},
   "source": [
    "주사위 게임 1"
   ]
  },
  {
   "cell_type": "code",
   "execution_count": 4,
   "metadata": {},
   "outputs": [],
   "source": [
    "def solution(a, b):\n",
    "    if a%2 == 1 and b%2==1:\n",
    "        return pow(a,2) + pow(b,2)\n",
    "    elif a%2 == 0 and b%2 == 0:\n",
    "        return abs(a-b)\n",
    "    else:\n",
    "        return 2*(a+b)"
   ]
  },
  {
   "cell_type": "markdown",
   "metadata": {},
   "source": [
    "날짜 비교하기"
   ]
  },
  {
   "cell_type": "code",
   "execution_count": null,
   "metadata": {},
   "outputs": [
    {
     "data": {
      "text/plain": [
       "1"
      ]
     },
     "execution_count": 21,
     "metadata": {},
     "output_type": "execute_result"
    }
   ],
   "source": [
    "def solution(date1, date2):\n",
    "    for i in range(len(date1)):\n",
    "        if date1[i] < date2[i]:\n",
    "            return 1\n",
    "    return 0\n",
    "solution([2020, 11, 30], [2032, 11, 29])\n",
    "\n",
    "# 다른 풀이 : 리스트 순차 비교 활용\n",
    "# 파이썬에서는 리스트를 요소별로 순차 비교가 가능\n",
    "def solution(date1, date2):\n",
    "    return 1 if date1 < date2 else 0"
   ]
  }
 ],
 "metadata": {
  "kernelspec": {
   "display_name": "sun_chnn",
   "language": "python",
   "name": "python3"
  },
  "language_info": {
   "codemirror_mode": {
    "name": "ipython",
    "version": 3
   },
   "file_extension": ".py",
   "mimetype": "text/x-python",
   "name": "python",
   "nbconvert_exporter": "python",
   "pygments_lexer": "ipython3",
   "version": "3.10.14"
  }
 },
 "nbformat": 4,
 "nbformat_minor": 2
}
