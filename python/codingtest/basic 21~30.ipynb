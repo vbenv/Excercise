{
 "cells": [
  {
   "cell_type": "markdown",
   "metadata": {},
   "source": [
    "### D-21"
   ]
  },
  {
   "cell_type": "markdown",
   "metadata": {},
   "source": [
    "뒤에서 5등 위로"
   ]
  },
  {
   "cell_type": "code",
   "execution_count": 1,
   "metadata": {},
   "outputs": [],
   "source": [
    "def solution(num_list):\n",
    "    return sorted(num_list)[5:]"
   ]
  },
  {
   "cell_type": "markdown",
   "metadata": {},
   "source": [
    "전국 대회 선발 고사"
   ]
  },
  {
   "cell_type": "code",
   "execution_count": null,
   "metadata": {},
   "outputs": [],
   "source": [
    "def solution(rank, attendance):\n",
    "    result = []\n",
    "    for i in range(len(attendance)):\n",
    "        if attendance[i]:\n",
    "            result.append(rank[i])\n",
    "    a,b,c = [rank.index(num) for num in sorted(result)[:3]]     # 정렬한 다음의 1~3위를 선택\n",
    "    return 10000 * a + 100 * b + c"
   ]
  },
  {
   "cell_type": "markdown",
   "metadata": {},
   "source": [
    "문자열 정수의 합"
   ]
  },
  {
   "cell_type": "code",
   "execution_count": null,
   "metadata": {},
   "outputs": [],
   "source": [
    "def solution(num_str):\n",
    "    return sum([int(str) for str in num_str])\n",
    "# 다른 풀이 : map(dtype, iterable) -> 각 요소를 dtype형태로 바꿔줌\n",
    "def solution(num_str):\n",
    "    return sum(map(int, num_str))\n"
   ]
  },
  {
   "cell_type": "markdown",
   "metadata": {},
   "source": [
    "문자열을 정수로 변환하기"
   ]
  },
  {
   "cell_type": "code",
   "execution_count": 23,
   "metadata": {},
   "outputs": [],
   "source": [
    "def solution(n_str):\n",
    "    return int(n_str)\n",
    "# 다른 풀이 : solution 자체를 함수로 변환하여 사용\n",
    "solution = int\n",
    "solution = lambda x : int(x)"
   ]
  },
  {
   "cell_type": "markdown",
   "metadata": {},
   "source": [
    "0 떼기"
   ]
  },
  {
   "cell_type": "code",
   "execution_count": null,
   "metadata": {},
   "outputs": [
    {
     "data": {
      "text/plain": [
       "10"
      ]
     },
     "execution_count": 3,
     "metadata": {},
     "output_type": "execute_result"
    }
   ],
   "source": [
    "def solition(n_str):\n",
    "    return str(int(n_str))\n",
    "## 다른 풀이 : lstrip - 왼쪽 특정 문자 제거\n",
    "def solution(n_str):\n",
    "    return n_str.lstrip('0')"
   ]
  },
  {
   "cell_type": "markdown",
   "metadata": {},
   "source": [
    "두 수의 합"
   ]
  },
  {
   "cell_type": "code",
   "execution_count": 4,
   "metadata": {},
   "outputs": [],
   "source": [
    "def solution(a,b):\n",
    "    return str(int(a) + int(b))"
   ]
  },
  {
   "cell_type": "markdown",
   "metadata": {},
   "source": [
    "문자열로 변환"
   ]
  },
  {
   "cell_type": "code",
   "execution_count": 5,
   "metadata": {},
   "outputs": [],
   "source": [
    "def solution(n):\n",
    "    return str(n)\n",
    "\n",
    "# other solution : str() -> scratch code\n",
    "def solution(n):\n",
    "    answer = f'{n}'\n",
    "    return answer"
   ]
  },
  {
   "cell_type": "markdown",
   "metadata": {},
   "source": [
    "배열의 원소 삭제하기"
   ]
  },
  {
   "cell_type": "code",
   "execution_count": 8,
   "metadata": {},
   "outputs": [
    {
     "data": {
      "text/plain": [
       "[293, 395, 678]"
      ]
     },
     "execution_count": 8,
     "metadata": {},
     "output_type": "execute_result"
    }
   ],
   "source": [
    "def solution(arr, delete_list):\n",
    "    return [num for num in arr if num not in delete_list]\n",
    "solution([293, 1000, 395, 678, 94],\t[94, 777, 104, 1000, 1, 12])"
   ]
  },
  {
   "cell_type": "markdown",
   "metadata": {},
   "source": [
    "부분 문자열인지 확인"
   ]
  },
  {
   "cell_type": "code",
   "execution_count": 10,
   "metadata": {},
   "outputs": [],
   "source": [
    "def solution(my_string, target):\n",
    "    return 1 if target in my_string else 0\n",
    "\n",
    "# other solution : bool, lambda\n",
    "def solution(str, target):\n",
    "    return int(target in str)\n",
    "\n",
    "solution = lambda x,y : int(y in x)\n"
   ]
  },
  {
   "cell_type": "markdown",
   "metadata": {},
   "source": [
    "부분 문자열"
   ]
  },
  {
   "cell_type": "code",
   "execution_count": 3,
   "metadata": {},
   "outputs": [
    {
     "data": {
      "text/plain": [
       "0"
      ]
     },
     "execution_count": 3,
     "metadata": {},
     "output_type": "execute_result"
    }
   ],
   "source": [
    "def solution(str1, str2):\n",
    "    return int(str1 in str2)\n",
    "solution('abcdc', 'aabcc')"
   ]
  },
  {
   "cell_type": "markdown",
   "metadata": {},
   "source": [
    "꼬리 문자열"
   ]
  },
  {
   "cell_type": "code",
   "execution_count": null,
   "metadata": {},
   "outputs": [],
   "source": [
    "def solution(str_list, ex):\n",
    "    return ''.join([str for str in str_list if ex not in str])"
   ]
  },
  {
   "cell_type": "markdown",
   "metadata": {},
   "source": [
    "정수 찾기"
   ]
  },
  {
   "cell_type": "code",
   "execution_count": null,
   "metadata": {},
   "outputs": [],
   "source": [
    "def solution(num_list, n):\n",
    "    return int(n in num_list)"
   ]
  },
  {
   "cell_type": "markdown",
   "metadata": {},
   "source": [
    "주사위 게임 1"
   ]
  },
  {
   "cell_type": "code",
   "execution_count": 4,
   "metadata": {},
   "outputs": [],
   "source": [
    "def solution(a, b):\n",
    "    if a%2 == 1 and b%2==1:\n",
    "        return pow(a,2) + pow(b,2)\n",
    "    elif a%2 == 0 and b%2 == 0:\n",
    "        return abs(a-b)\n",
    "    else:\n",
    "        return 2*(a+b)"
   ]
  },
  {
   "cell_type": "markdown",
   "metadata": {},
   "source": [
    "날짜 비교하기"
   ]
  },
  {
   "cell_type": "code",
   "execution_count": null,
   "metadata": {},
   "outputs": [
    {
     "data": {
      "text/plain": [
       "1"
      ]
     },
     "execution_count": 21,
     "metadata": {},
     "output_type": "execute_result"
    }
   ],
   "source": [
    "def solution(date1, date2):\n",
    "    for i in range(len(date1)):\n",
    "        if date1[i] < date2[i]:\n",
    "            return 1\n",
    "    return 0\n",
    "solution([2020, 11, 30], [2032, 11, 29])\n",
    "\n",
    "# 다른 풀이 : 리스트 순차 비교 활용\n",
    "# 파이썬에서는 리스트를 요소별로 순차 비교가 가능\n",
    "def solution(date1, date2):\n",
    "    return 1 if date1 < date2 else 0"
   ]
  },
  {
   "cell_type": "markdown",
   "metadata": {},
   "source": [
    "커피 심부름"
   ]
  },
  {
   "cell_type": "code",
   "execution_count": null,
   "metadata": {},
   "outputs": [],
   "source": [
    "def solution(order):\n",
    "    sum = 0\n",
    "    for i in range(len(order)):\n",
    "        if 'americano' in order[i]:\n",
    "            sum += 4500\n",
    "        elif 'latte' in order[i]:\n",
    "            sum += 5000\n",
    "        else:\n",
    "            sum += 4500\n",
    "    return sum"
   ]
  },
  {
   "cell_type": "markdown",
   "metadata": {},
   "source": [
    "그림 확대"
   ]
  },
  {
   "cell_type": "code",
   "execution_count": 12,
   "metadata": {},
   "outputs": [],
   "source": [
    "def solution(picture, k):\n",
    "    answer = []\n",
    "    for comp in picture:\n",
    "        _temp = ''\n",
    "        # 가로\n",
    "        for pixel in comp:\n",
    "            _temp += pixel * k\n",
    "        # 세로\n",
    "        for _ in range(k):\n",
    "            answer.append(_temp)\n",
    "    return answer\n",
    "\n",
    "# 다른 풀이 : replace\n",
    "def solution(picture, k):\n",
    "    answer = []\n",
    "    for i in range(len(picture)):\n",
    "        for _ in range(k):\n",
    "            answer.append(picture[i].replace('.', '.'*k).replace('x','x' * k))\n",
    "    return answer"
   ]
  },
  {
   "cell_type": "markdown",
   "metadata": {},
   "source": [
    "조건에 맞게 수열 변환하기 3"
   ]
  },
  {
   "cell_type": "code",
   "execution_count": 13,
   "metadata": {},
   "outputs": [],
   "source": [
    "def solution(arr, k):\n",
    "    return [ i * k if (k % 2) == 1 else i + k for i in arr]"
   ]
  },
  {
   "cell_type": "markdown",
   "metadata": {},
   "source": [
    "ㅣ로 만들기"
   ]
  },
  {
   "cell_type": "code",
   "execution_count": null,
   "metadata": {},
   "outputs": [],
   "source": [
    "# replace -> \n",
    "def solution(myString):\n",
    "    for str in myString:\n",
    "        if str <'l':\n",
    "            myString = myString.replace(str, 'l')\n",
    "    return myString\n",
    "solution('abcdevwxyz')\n",
    "\n",
    "# 다른 풀이\n",
    "def solution(myString):\n",
    "    answer = [x if x > 'l' else 'l' for x in myString]\n",
    "    return ''.join(answer)"
   ]
  },
  {
   "cell_type": "markdown",
   "metadata": {},
   "source": [
    "특별한 이차원 배열 1"
   ]
  },
  {
   "cell_type": "code",
   "execution_count": null,
   "metadata": {},
   "outputs": [
    {
     "data": {
      "text/plain": [
       "array([[1., 0., 0., 0., 0.],\n",
       "       [0., 1., 0., 0., 0.],\n",
       "       [0., 0., 1., 0., 0.],\n",
       "       [0., 0., 0., 1., 0.],\n",
       "       [0., 0., 0., 0., 1.]])"
      ]
     },
     "execution_count": 34,
     "metadata": {},
     "output_type": "execute_result"
    }
   ],
   "source": [
    "# 0~n-1개 리스트 만드는데, 인덱스 넘버에 맞는 것만 1로하고 나머지 0\n",
    "\n",
    "def solution(n):\n",
    "    answer = []\n",
    "    for i in range(n):\n",
    "        answer.append([0] * n)\n",
    "        answer[i][i] = 1\n",
    "    return answer\n",
    "# numpy를 활용한 풀이\n",
    "# np.eye(n, k=?) : n 개의 단위 행렬 생성, k값으로 대각선의 위치를 조정할 수 있음\n",
    "# np.identity(n) : 주어진 크기의 단위 행렬 생성\n",
    "import numpy as np\n",
    "def solution(n):\n",
    "    return np.eye(n)\n",
    "solution(5)"
   ]
  },
  {
   "cell_type": "markdown",
   "metadata": {},
   "source": [
    "정수를 나선형으로 배치하기"
   ]
  },
  {
   "cell_type": "code",
   "execution_count": null,
   "metadata": {},
   "outputs": [
    {
     "data": {
      "text/plain": [
       "[[0, 0, 0, 0, 0],\n",
       " [0, 0, 0, 0, 0],\n",
       " [0, 0, 0, 0, 0],\n",
       " [0, 0, 0, 0, 0],\n",
       " [0, 0, 0, 0, 0]]"
      ]
     },
     "execution_count": 8,
     "metadata": {},
     "output_type": "execute_result"
    }
   ],
   "source": []
  },
  {
   "cell_type": "code",
   "execution_count": 19,
   "metadata": {},
   "outputs": [
    {
     "data": {
      "text/plain": [
       "[[0, 0, 0, 0, 0],\n",
       " [0, 0, 0, 0, 0],\n",
       " [0, 0, 0, 0, 0],\n",
       " [0, 0, 0, 0, 0],\n",
       " [0, 0, 0, 0, 0]]"
      ]
     },
     "execution_count": 19,
     "metadata": {},
     "output_type": "execute_result"
    }
   ],
   "source": [
    "answer = [ [0] * 5 for i in range(5)]\n",
    "answer"
   ]
  },
  {
   "cell_type": "code",
   "execution_count": null,
   "metadata": {},
   "outputs": [],
   "source": [
    "def solution(n):\n",
    "    # 2차원 배열 초기화\n",
    "    # answer = [[ 0 for i in range(n)] ] * n -> 내부 리스트들이 모두 같은 객체 참조하여 하나의 값이 변할 때 참조하는 곳 모두 값이 변경되는 문제 발생.\n",
    "    answer = [ [0] * n for i in range(n)]\n",
    "    \n",
    "    # 현재 위치와 이동 방향 설정\n",
    "    dx = 0\n",
    "    dy = 0\n",
    "    dir = 'r'\n",
    "    for i in range(n*n):\n",
    "        answer[dx][dy] = i + 1\n",
    "        if dir == 'r':\n",
    "            dy += 1\n",
    "            if dy == n-1 or answer[dx][dy+1] != 0:\n",
    "                dir = 'd'\n",
    "        elif dir == 'd':\n",
    "            dx += 1\n",
    "            if dx == n-1 or answer[dx+1][dy] != 0:\n",
    "                dir = 'l'\n",
    "        elif dir == 'l':\n",
    "            dy -= 1\n",
    "            if dy == n-1 or answer[dx][dy-1] != 0:\n",
    "                dir = 'u'\n",
    "        else:\n",
    "            dx -= 1\n",
    "            if dx == n-1 or answer[dx-1][dy] !=0:\n",
    "                dir='r'\n",
    "    return answer"
   ]
  },
  {
   "cell_type": "code",
   "execution_count": null,
   "metadata": {},
   "outputs": [],
   "source": [
    "def solution(n):\n",
    "    matrix = [ [0] * n for _ in range(n)]\n",
    "       # 방향 순서: 오른쪽 → 아래 → 왼쪽 → 위\n",
    "    dx = [0, 1, 0, -1]  # x 좌표 변화량 (행 이동)\n",
    "    dy = [1, 0, -1, 0]  # y 좌표 변화량 (열 이동)\n",
    "    \n",
    "    x, y, direction = 0, 0, 0  # 초기 위치와 방향 (오른쪽 시작)\n",
    "    \n",
    "    for num in range(1, n * n + 1):\n",
    "        matrix[x][y] = num  # 현재 위치에 숫자 채우기\n",
    "        nx, ny = x + dx[direction], y + dy[direction]  # 다음 위치 계산\n",
    "\n",
    "        # 범위를 벗어나거나 이미 값이 있으면 방향 변경\n",
    "        if not (0 <= nx < n and 0 <= ny < n) or matrix[nx][ny] != 0:\n",
    "            direction = (direction + 1) % 4  # 다음 방향으로 회전\n",
    "            nx, ny = x + dx[direction], y + dy[direction]  # 회전 후 새로운 위치 계산\n",
    "        \n",
    "        x, y = nx, ny  # 다음 이동\n",
    "    \n",
    "    return matrix"
   ]
  },
  {
   "cell_type": "code",
   "execution_count": null,
   "metadata": {},
   "outputs": [],
   "source": []
  },
  {
   "cell_type": "code",
   "execution_count": null,
   "metadata": {},
   "outputs": [],
   "source": []
  }
 ],
 "metadata": {
  "kernelspec": {
   "display_name": "sun_chnn",
   "language": "python",
   "name": "python3"
  },
  "language_info": {
   "codemirror_mode": {
    "name": "ipython",
    "version": 3
   },
   "file_extension": ".py",
   "mimetype": "text/x-python",
   "name": "python",
   "nbconvert_exporter": "python",
   "pygments_lexer": "ipython3",
   "version": "3.10.14"
  }
 },
 "nbformat": 4,
 "nbformat_minor": 2
}
