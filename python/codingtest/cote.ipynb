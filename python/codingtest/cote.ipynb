{
 "cells": [
  {
   "cell_type": "markdown",
   "metadata": {},
   "source": [
    "# 프로그래머스"
   ]
  },
  {
   "cell_type": "markdown",
   "metadata": {},
   "source": [
    "## 파이썬 기초 문제"
   ]
  },
  {
   "cell_type": "markdown",
   "metadata": {},
   "source": [
    "간단한 논리 연산\n",
    "\n",
    "boolean 변수 x1, x2, x3, x4가 매개변수로 주어질 때, 다음의 식의 true/false를 return 하는 solution 함수를 작성해 주세요.\n",
    "\n",
    "(x1 ∨ x2) ∧ (x3 ∨ x4)"
   ]
  },
  {
   "cell_type": "code",
   "execution_count": 3,
   "metadata": {},
   "outputs": [
    {
     "data": {
      "text/plain": [
       "True"
      ]
     },
     "execution_count": 3,
     "metadata": {},
     "output_type": "execute_result"
    }
   ],
   "source": [
    "def solution(x1, x2, x3, x4):\n",
    "    if (x1== False and x2== False)  or (x3== False and x4== False):\n",
    "        return False\n",
    "    else:\n",
    "        return True\n",
    "\n",
    "solution(False, True, True, True)"
   ]
  },
  {
   "cell_type": "code",
   "execution_count": 7,
   "metadata": {},
   "outputs": [
    {
     "name": "stdout",
     "output_type": "stream",
     "text": [
      "True\n",
      "0\n"
     ]
    }
   ],
   "source": [
    "# or : 두 개중 하나만 True이면, True를 반환.\n",
    "print(True or False)\n",
    "# 따라서 다른 답변\n",
    "def solution(x1, x2, x3, x4):\n",
    "    return (x1 or x2) and (x3 or x4)"
   ]
  },
  {
   "cell_type": "markdown",
   "metadata": {},
   "source": [
    "주사위 게임 3\n",
    "\n",
    "1부터 6까지 숫자가 적힌 주사위가 네 개 있습니다. 네 주사위를 굴렸을 때 나온 \n",
    "숫자에 따라 다음과 같은 점수를 얻습니다.\n",
    "\n",
    "1. 네 주사위에서 나온 숫자가 모두 p로 같다면 1111 × p점을 얻습니다.\n",
    "\n",
    "2. 세 주사위에서 나온 숫자가 p로 같고 나머지 다른 주사위에서 나온 숫자가 q(p ≠ q)라면 (10 × p + q)2 점을 얻습니다.\n",
    "\n",
    "3. 주사위가 두 개씩 같은 값이 나오고, 나온 숫자를 각각 p, q(p ≠ q)라고 한다면 (p + q) × |p - q|점을 얻습니다.\n",
    "\n",
    "4. 어느 두 주사위에서 나온 숫자가 p로 같고 나머지 두 주사위에서 나온 숫자가 각각 p와 다른 q, r(q ≠ r)이라면 q × r점을 얻습니다.\n",
    "\n",
    "5. 네 주사위에 적힌 숫자가 모두 다르다면 나온 숫자 중 가장 작은 숫자 만큼의 점수를 얻습니다.\n",
    "\n",
    "    네 주사위를 굴렸을 때 나온 숫자가 정수 매개변수 a, b, c, d로 주어질 때, 얻는 점수를 return 하는 solution 함수를 작성해 주세요."
   ]
  },
  {
   "cell_type": "code",
   "execution_count": 26,
   "metadata": {},
   "outputs": [
    {
     "data": {
      "text/plain": [
       "6"
      ]
     },
     "execution_count": 26,
     "metadata": {},
     "output_type": "execute_result"
    }
   ],
   "source": [
    "def solution(a, b, c, d):\n",
    "    # 네 개의 숫자가 같은 경우\n",
    "    if a == b == c == d:\n",
    "        return 1111 * a\n",
    "    \n",
    "    tmp = [a, b, c, d]\n",
    "    cnt = []\n",
    "    tmp = sorted(tmp)\n",
    "    for i in range(len(tmp)):\n",
    "        cnt.append(tmp.count(tmp[i]))\n",
    "    \n",
    "    # 세 개의 숫자가 같은 경우, 같은 숫자가 뭔지, 다른 숫자가 뭔지 알아야 함.\n",
    "    if max(cnt) == 3:\n",
    "        return (10 * tmp[cnt.index(3)] + tmp[cnt.index(1)]) ** 2\n",
    "    \n",
    "    if max(cnt) == 2:\n",
    "        # 주사위 두 개씩 같은 값이 나온 경우,\n",
    "        if min(cnt) == 2:\n",
    "            return (tmp[0] + tmp[2]) * abs(tmp[0] - tmp[2])\n",
    "        # 주사위 세 개가 다른 값이 나온 경우,\n",
    "        else:\n",
    "            return tmp.pop(cnt.index(1)) * tmp.pop(cnt.index(1))\n",
    "            \n",
    "    # 네 개의 숫자가 다 다른경우,\n",
    "    if max(cnt) == 1:\n",
    "        tmp = sorted(tmp)   # 오름차순 정렬\n",
    "        return tmp[0]\n",
    "        \n",
    "        \n",
    "\n",
    "solution(3,3,2,4)\n"
   ]
  },
  {
   "cell_type": "code",
   "execution_count": null,
   "metadata": {},
   "outputs": [],
   "source": [
    "# using chatgpt\n",
    "from collections import Counter\n",
    "\n",
    "def solution(a, b, c, d):\n",
    "    # Count the occurrences of each number\n",
    "    counts = Counter([a, b, c, d])\n",
    "    \n",
    "    # Extract unique numbers and their counts\n",
    "    unique_numbers = list(counts.keys())\n",
    "    counts_values = list(counts.values())\n",
    "    \n",
    "    # Case 1: All four numbers are the same\n",
    "    if len(unique_numbers) == 1:\n",
    "        return 1111 * unique_numbers[0]\n",
    "\n",
    "    # Case 2: Three numbers are the same, and one is different\n",
    "    if 3 in counts_values:\n",
    "        p = unique_numbers[counts_values.index(3)]\n",
    "        q = unique_numbers[counts_values.index(1)]\n",
    "        return (10 * p + q) ** 2\n",
    "\n",
    "    # Case 3: Two pairs of numbers are the same\n",
    "    if counts_values.count(2) == 2:\n",
    "        p, q = unique_numbers\n",
    "        return (p + q) * abs(p - q)\n",
    "\n",
    "    # Case 4: Two numbers are the same, and the other two are different\n",
    "    if counts_values.count(2) == 1:\n",
    "        p = unique_numbers[counts_values.index(2)]\n",
    "        others = [num for num in unique_numbers if num != p]\n",
    "        q, r = others\n",
    "        return q * r\n",
    "\n",
    "    # Case 5: All four numbers are different\n",
    "    return min(unique_numbers)\n",
    "\n",
    "# Testing the refactored function with an example\n",
    "solution(3, 3, 3, 4)  # Expected output is (10 * 3 + 4)^2 = 34^2 = 1156\n"
   ]
  },
  {
   "cell_type": "markdown",
   "metadata": {},
   "source": [
    "글자 이어 붙여 문자열 만들기\n",
    "문자열 my_string과 정수 배열 index_list가 매개변수로 주어집니다. \n",
    "\n",
    "my_string의 index_list의 원소들에 해당하는 인덱스의 글자들을 순서대로 이어 붙인 문자열을 return 하는 solution 함수를 작성해 주세요."
   ]
  },
  {
   "cell_type": "code",
   "execution_count": 11,
   "metadata": {},
   "outputs": [
    {
     "data": {
      "text/plain": [
       "'programmers'"
      ]
     },
     "execution_count": 11,
     "metadata": {},
     "output_type": "execute_result"
    }
   ],
   "source": [
    "def solution(my_string, index_list):\n",
    "    answer = []\n",
    "    [answer.append(my_string[i]) for i in index_list]\n",
    "    answer = ''.join(answer)\n",
    "    return answer\n",
    "\n",
    "    \n",
    "solution(\"cvsgiorszzzmrpaqpe\", [16, 6, 5, 3, 12, 14, 11, 11, 17, 12, 7])\n",
    "\n",
    "# 다른 사람의 풀이\n",
    "def solution(my_string, index_list):\n",
    "    return ''.join([my_string[i] for i in index_list])"
   ]
  },
  {
   "cell_type": "markdown",
   "metadata": {},
   "source": [
    "9로 나눈 나머지\n",
    "\n",
    "음이 아닌 정수를 9로 나눈 나머지는 그 정수의 각 자리 숫자의 합을 9로 나눈 나머지와 같은 것이 알려져 있습니다.\n",
    "\n",
    "이 사실을 이용하여 음이 아닌 정수가 문자열 number로 주어질 때, 이 정수를 9로 나눈 나머지를 return 하는 solution 함수를 작성해주세요."
   ]
  },
  {
   "cell_type": "code",
   "execution_count": null,
   "metadata": {},
   "outputs": [],
   "source": [
    "def solution(number):\n",
    "    return sum([int(i) for i in number]) % 9"
   ]
  },
  {
   "cell_type": "markdown",
   "metadata": {},
   "source": [
    "문자열 여러 번 뒤집기\n",
    "\n",
    "문자열 my_string과 이차원 정수 배열 queries가 매개변수로 주어집니다. \n",
    "\n",
    "queries의 원소는 [s, e] 형태로, my_string의 인덱스 s부터 인덱스 e까지를 뒤집으라는 의미입니다.\n",
    "\n",
    " my_string에 queries의 명령을 순서대로 처리한 후의 문자열을 return 하는 solution 함수를 작성해 주세요."
   ]
  },
  {
   "cell_type": "code",
   "execution_count": 44,
   "metadata": {},
   "outputs": [
    {
     "name": "stdout",
     "output_type": "stream",
     "text": [
      "2 3\n",
      "[]\n",
      "0 7\n",
      "[]\n",
      "5 9\n",
      "[]\n",
      "6 10\n",
      "[]\n"
     ]
    },
    {
     "data": {
      "text/plain": [
       "'programmers'"
      ]
     },
     "execution_count": 44,
     "metadata": {},
     "output_type": "execute_result"
    }
   ],
   "source": [
    "def solution(my_string, queries):\n",
    "    # 인덱스 수정 작업을 위한 리스트 변환 - str : immutable\n",
    "    my_string = list(my_string)\n",
    "    for i in queries:\n",
    "        print(i[0], i[1])\n",
    "        print(my_string[i[0] : i[1]+1 : -1])\n",
    "        \n",
    "        # 역방향으로 슬라이싱 할 때는, 인덱스 번호를 큰 수 : 작은 수 : -1 로 해야 제대로 반환.\n",
    "        # 작은 수가 0이라면 뺘고 진행.\n",
    "        if i[0] == 0:\n",
    "            my_string[i[0] : i[1]+1] = my_string[i[1] : : -1]\n",
    "        # 작은 수는 미포함이므로, -1을 해줘야 함.\n",
    "        else:\n",
    "            my_string[i[0] : i[1]+1] = my_string[i[1] : i[0]-1 : -1]\n",
    "    return ''.join(my_string)           # 마지막 반환 시에는 str형태로 반환\n",
    "solution(\"rermgorpsam\",[[2, 3], [0, 7], [5, 9], [6, 10]])\n",
    "\n",
    "\n",
    "# 다른 사람 풀이\n",
    "def solution(my_string, queries):\n",
    "    answer = list(my_string)\n",
    "    for q, e in queries:\n",
    "        answer[q : e+1] = answer[q : e+1][::-1]\n",
    "    return ''.join(answer)\n",
    "\n",
    "solution(\"rermgorpsam\",[[2, 3], [0, 7], [5, 9], [6, 10]])"
   ]
  },
  {
   "cell_type": "code",
   "execution_count": 41,
   "metadata": {},
   "outputs": [
    {
     "name": "stdout",
     "output_type": "stream",
     "text": [
      "['3', '2', '1']\n"
     ]
    }
   ],
   "source": [
    "string = \"0123456\"\n",
    "string = list(string)\n",
    "print(string[3:1-1:-1])"
   ]
  },
  {
   "cell_type": "code",
   "execution_count": null,
   "metadata": {},
   "outputs": [],
   "source": []
  }
 ],
 "metadata": {
  "kernelspec": {
   "display_name": "base",
   "language": "python",
   "name": "python3"
  },
  "language_info": {
   "codemirror_mode": {
    "name": "ipython",
    "version": 3
   },
   "file_extension": ".py",
   "mimetype": "text/x-python",
   "name": "python",
   "nbconvert_exporter": "python",
   "pygments_lexer": "ipython3",
   "version": "3.11.7"
  }
 },
 "nbformat": 4,
 "nbformat_minor": 2
}
